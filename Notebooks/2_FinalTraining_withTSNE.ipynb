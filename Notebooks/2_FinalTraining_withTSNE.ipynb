{
  "cells": [
    {
      "cell_type": "code",
      "execution_count": null,
      "id": "69ab002b",
      "metadata": {
        "execution": {
          "iopub.execute_input": "2022-04-25T16:03:28.604482Z",
          "iopub.status.busy": "2022-04-25T16:03:28.603921Z",
          "iopub.status.idle": "2022-04-25T16:04:06.286945Z",
          "shell.execute_reply": "2022-04-25T16:04:06.286087Z"
        },
        "id": "69ab002b",
        "outputId": "4ae954dd-e398-44ab-dbaa-0fe7c9cc4890",
        "papermill": {
          "duration": 37.710556,
          "end_time": "2022-04-25T16:04:06.289473",
          "exception": false,
          "start_time": "2022-04-25T16:03:28.578917",
          "status": "completed"
        },
        "tags": []
      },
      "outputs": [
        {
          "name": "stdout",
          "output_type": "stream",
          "text": [
            "Requirement already satisfied: transformers in /opt/conda/lib/python3.7/site-packages (4.17.0)\r\n",
            "Requirement already satisfied: filelock in /opt/conda/lib/python3.7/site-packages (from transformers) (3.6.0)\r\n",
            "Requirement already satisfied: huggingface-hub<1.0,>=0.1.0 in /opt/conda/lib/python3.7/site-packages (from transformers) (0.5.1)\r\n",
            "Requirement already satisfied: tokenizers!=0.11.3,>=0.11.1 in /opt/conda/lib/python3.7/site-packages (from transformers) (0.11.6)\r\n",
            "Requirement already satisfied: regex!=2019.12.17 in /opt/conda/lib/python3.7/site-packages (from transformers) (2021.11.10)\r\n",
            "Requirement already satisfied: requests in /opt/conda/lib/python3.7/site-packages (from transformers) (2.27.1)\r\n",
            "Requirement already satisfied: tqdm>=4.27 in /opt/conda/lib/python3.7/site-packages (from transformers) (4.63.0)\r\n",
            "Requirement already satisfied: sacremoses in /opt/conda/lib/python3.7/site-packages (from transformers) (0.0.49)\r\n",
            "Requirement already satisfied: importlib-metadata in /opt/conda/lib/python3.7/site-packages (from transformers) (4.11.3)\r\n",
            "Requirement already satisfied: numpy>=1.17 in /opt/conda/lib/python3.7/site-packages (from transformers) (1.21.5)\r\n",
            "Requirement already satisfied: pyyaml>=5.1 in /opt/conda/lib/python3.7/site-packages (from transformers) (6.0)\r\n",
            "Requirement already satisfied: packaging>=20.0 in /opt/conda/lib/python3.7/site-packages (from transformers) (21.3)\r\n",
            "Requirement already satisfied: typing-extensions>=3.7.4.3 in /opt/conda/lib/python3.7/site-packages (from huggingface-hub<1.0,>=0.1.0->transformers) (4.1.1)\r\n",
            "Requirement already satisfied: pyparsing!=3.0.5,>=2.0.2 in /opt/conda/lib/python3.7/site-packages (from packaging>=20.0->transformers) (3.0.7)\r\n",
            "Requirement already satisfied: zipp>=0.5 in /opt/conda/lib/python3.7/site-packages (from importlib-metadata->transformers) (3.7.0)\r\n",
            "Requirement already satisfied: charset-normalizer~=2.0.0 in /opt/conda/lib/python3.7/site-packages (from requests->transformers) (2.0.12)\r\n",
            "Requirement already satisfied: urllib3<1.27,>=1.21.1 in /opt/conda/lib/python3.7/site-packages (from requests->transformers) (1.26.8)\r\n",
            "Requirement already satisfied: idna<4,>=2.5 in /opt/conda/lib/python3.7/site-packages (from requests->transformers) (3.3)\r\n",
            "Requirement already satisfied: certifi>=2017.4.17 in /opt/conda/lib/python3.7/site-packages (from requests->transformers) (2021.10.8)\r\n",
            "Requirement already satisfied: click in /opt/conda/lib/python3.7/site-packages (from sacremoses->transformers) (8.0.4)\r\n",
            "Requirement already satisfied: six in /opt/conda/lib/python3.7/site-packages (from sacremoses->transformers) (1.16.0)\r\n",
            "Requirement already satisfied: joblib in /opt/conda/lib/python3.7/site-packages (from sacremoses->transformers) (1.0.1)\r\n",
            "\u001b[33mWARNING: Running pip as the 'root' user can result in broken permissions and conflicting behaviour with the system package manager. It is recommended to use a virtual environment instead: https://pip.pypa.io/warnings/venv\u001b[0m\u001b[33m\r\n",
            "\u001b[0mRequirement already satisfied: sentencepiece in /opt/conda/lib/python3.7/site-packages (0.1.96)\r\n",
            "\u001b[33mWARNING: Running pip as the 'root' user can result in broken permissions and conflicting behaviour with the system package manager. It is recommended to use a virtual environment instead: https://pip.pypa.io/warnings/venv\u001b[0m\u001b[33m\r\n",
            "\u001b[0mCollecting torch-summary\r\n",
            "  Downloading torch_summary-1.4.5-py3-none-any.whl (16 kB)\r\n",
            "Installing collected packages: torch-summary\r\n",
            "Successfully installed torch-summary-1.4.5\r\n",
            "\u001b[33mWARNING: Running pip as the 'root' user can result in broken permissions and conflicting behaviour with the system package manager. It is recommended to use a virtual environment instead: https://pip.pypa.io/warnings/venv\u001b[0m\u001b[33m\r\n",
            "\u001b[0mRequirement already satisfied: accelerate in /opt/conda/lib/python3.7/site-packages (0.6.2)\r\n",
            "Requirement already satisfied: pyyaml in /opt/conda/lib/python3.7/site-packages (from accelerate) (6.0)\r\n",
            "Requirement already satisfied: torch>=1.4.0 in /opt/conda/lib/python3.7/site-packages (from accelerate) (1.9.1)\r\n",
            "Requirement already satisfied: numpy>=1.17 in /opt/conda/lib/python3.7/site-packages (from accelerate) (1.21.5)\r\n",
            "Requirement already satisfied: typing-extensions in /opt/conda/lib/python3.7/site-packages (from torch>=1.4.0->accelerate) (4.1.1)\r\n",
            "\u001b[33mWARNING: Running pip as the 'root' user can result in broken permissions and conflicting behaviour with the system package manager. It is recommended to use a virtual environment instead: https://pip.pypa.io/warnings/venv\u001b[0m\u001b[33m\r\n",
            "\u001b[0m"
          ]
        }
      ],
      "source": [
        "!pip install transformers\n",
        "!pip install sentencepiece\n",
        "!pip install torch-summary\n",
        "!pip install accelerate"
      ]
    },
    {
      "cell_type": "code",
      "execution_count": null,
      "id": "5c3ef0af",
      "metadata": {
        "execution": {
          "iopub.execute_input": "2022-04-25T16:04:06.345671Z",
          "iopub.status.busy": "2022-04-25T16:04:06.345444Z",
          "iopub.status.idle": "2022-04-25T16:04:06.349201Z",
          "shell.execute_reply": "2022-04-25T16:04:06.348478Z"
        },
        "id": "5c3ef0af",
        "papermill": {
          "duration": 0.033575,
          "end_time": "2022-04-25T16:04:06.350811",
          "exception": false,
          "start_time": "2022-04-25T16:04:06.317236",
          "status": "completed"
        },
        "tags": []
      },
      "outputs": [],
      "source": [
        "# cp /content/drive/MyDrive/reddit60k/60k-stack-overflow-questions-with-quality-rate.zip /content/data"
      ]
    },
    {
      "cell_type": "code",
      "execution_count": null,
      "id": "e1676549",
      "metadata": {
        "execution": {
          "iopub.execute_input": "2022-04-25T16:04:06.406286Z",
          "iopub.status.busy": "2022-04-25T16:04:06.406076Z",
          "iopub.status.idle": "2022-04-25T16:04:12.734415Z",
          "shell.execute_reply": "2022-04-25T16:04:12.733648Z"
        },
        "id": "e1676549",
        "papermill": {
          "duration": 6.358784,
          "end_time": "2022-04-25T16:04:12.736633",
          "exception": false,
          "start_time": "2022-04-25T16:04:06.377849",
          "status": "completed"
        },
        "tags": []
      },
      "outputs": [],
      "source": [
        "import os\n",
        "import zipfile\n",
        "import matplotlib.pyplot as plt\n",
        "import math\n",
        "import pandas as pd\n",
        "import numpy as np\n",
        "import torch\n",
        "from transformers import AlbertTokenizer, AlbertForSequenceClassification,get_linear_schedule_with_warmup\n",
        "from torch.utils.data import DataLoader,Dataset\n",
        "from torch.nn import CrossEntropyLoss\n",
        "import pickle\n",
        "from torchsummary import summary"
      ]
    },
    {
      "cell_type": "code",
      "execution_count": null,
      "id": "7b72c243",
      "metadata": {
        "execution": {
          "iopub.execute_input": "2022-04-25T16:04:12.800528Z",
          "iopub.status.busy": "2022-04-25T16:04:12.799820Z",
          "iopub.status.idle": "2022-04-25T16:04:12.803488Z",
          "shell.execute_reply": "2022-04-25T16:04:12.802675Z"
        },
        "id": "7b72c243",
        "papermill": {
          "duration": 0.036344,
          "end_time": "2022-04-25T16:04:12.805608",
          "exception": false,
          "start_time": "2022-04-25T16:04:12.769264",
          "status": "completed"
        },
        "tags": []
      },
      "outputs": [],
      "source": [
        "# z= zipfile.ZipFile('data/60k-stack-overflow-questions-with-quality-rate.zip')\n",
        "# z.extractall('data/')"
      ]
    },
    {
      "cell_type": "code",
      "execution_count": null,
      "id": "da66857f",
      "metadata": {
        "execution": {
          "iopub.execute_input": "2022-04-25T16:04:12.865780Z",
          "iopub.status.busy": "2022-04-25T16:04:12.865493Z",
          "iopub.status.idle": "2022-04-25T16:04:13.728476Z",
          "shell.execute_reply": "2022-04-25T16:04:13.727679Z"
        },
        "id": "da66857f",
        "papermill": {
          "duration": 0.895654,
          "end_time": "2022-04-25T16:04:13.730553",
          "exception": false,
          "start_time": "2022-04-25T16:04:12.834899",
          "status": "completed"
        },
        "tags": []
      },
      "outputs": [],
      "source": [
        "traindf = pd.read_csv(\"/kaggle/input/stack-proc/allop_train.csv\", lineterminator='\\n')\n",
        "testdf = pd.read_csv(\"/kaggle/input/stack-proc/allop_val.csv\", lineterminator='\\n')\n",
        "valdf  = testdf.sample(frac = 0.33)\n",
        "testdf = testdf.drop(valdf.index)"
      ]
    },
    {
      "cell_type": "code",
      "execution_count": null,
      "id": "ef7c0c63",
      "metadata": {
        "execution": {
          "iopub.execute_input": "2022-04-25T16:04:13.790141Z",
          "iopub.status.busy": "2022-04-25T16:04:13.789494Z",
          "iopub.status.idle": "2022-04-25T16:04:14.616408Z",
          "shell.execute_reply": "2022-04-25T16:04:14.615557Z"
        },
        "papermill": {
          "duration": 0.857992,
          "end_time": "2022-04-25T16:04:14.618457",
          "exception": false,
          "start_time": "2022-04-25T16:04:13.760465",
          "status": "completed"
        },
        "tags": [],
        "id": "ef7c0c63",
        "outputId": "34db8609-2244-4cfe-c9fe-b8d7e5bf81a2"
      },
      "outputs": [
        {
          "name": "stdout",
          "output_type": "stream",
          "text": [
            "Mon Apr 25 16:04:14 2022       \r\n",
            "+-----------------------------------------------------------------------------+\r\n",
            "| NVIDIA-SMI 470.82.01    Driver Version: 470.82.01    CUDA Version: 11.4     |\r\n",
            "|-------------------------------+----------------------+----------------------+\r\n",
            "| GPU  Name        Persistence-M| Bus-Id        Disp.A | Volatile Uncorr. ECC |\r\n",
            "| Fan  Temp  Perf  Pwr:Usage/Cap|         Memory-Usage | GPU-Util  Compute M. |\r\n",
            "|                               |                      |               MIG M. |\r\n",
            "|===============================+======================+======================|\r\n",
            "|   0  Tesla P100-PCIE...  Off  | 00000000:00:04.0 Off |                    0 |\r\n",
            "| N/A   34C    P0    26W / 250W |      0MiB / 16280MiB |      0%      Default |\r\n",
            "|                               |                      |                  N/A |\r\n",
            "+-------------------------------+----------------------+----------------------+\r\n",
            "                                                                               \r\n",
            "+-----------------------------------------------------------------------------+\r\n",
            "| Processes:                                                                  |\r\n",
            "|  GPU   GI   CI        PID   Type   Process name                  GPU Memory |\r\n",
            "|        ID   ID                                                   Usage      |\r\n",
            "|=============================================================================|\r\n",
            "|  No running processes found                                                 |\r\n",
            "+-----------------------------------------------------------------------------+\r\n"
          ]
        }
      ],
      "source": [
        "!nvidia-smi"
      ]
    },
    {
      "cell_type": "code",
      "execution_count": null,
      "id": "8498513f",
      "metadata": {
        "execution": {
          "iopub.execute_input": "2022-04-25T16:04:14.675617Z",
          "iopub.status.busy": "2022-04-25T16:04:14.675371Z",
          "iopub.status.idle": "2022-04-25T16:04:14.695790Z",
          "shell.execute_reply": "2022-04-25T16:04:14.694834Z"
        },
        "id": "8498513f",
        "outputId": "beb4cbd9-8809-4242-f9ae-00b1ffb6391b",
        "papermill": {
          "duration": 0.051621,
          "end_time": "2022-04-25T16:04:14.698095",
          "exception": false,
          "start_time": "2022-04-25T16:04:14.646474",
          "status": "completed"
        },
        "tags": []
      },
      "outputs": [
        {
          "data": {
            "text/html": [
              "<div>\n",
              "<style scoped>\n",
              "    .dataframe tbody tr th:only-of-type {\n",
              "        vertical-align: middle;\n",
              "    }\n",
              "\n",
              "    .dataframe tbody tr th {\n",
              "        vertical-align: top;\n",
              "    }\n",
              "\n",
              "    .dataframe thead th {\n",
              "        text-align: right;\n",
              "    }\n",
              "</style>\n",
              "<table border=\"1\" class=\"dataframe\">\n",
              "  <thead>\n",
              "    <tr style=\"text-align: right;\">\n",
              "      <th></th>\n",
              "      <th>Merged</th>\n",
              "      <th>Y</th>\n",
              "    </tr>\n",
              "  </thead>\n",
              "  <tbody>\n",
              "    <tr>\n",
              "      <th>0</th>\n",
              "      <td>java repeat task every random seconds already ...</td>\n",
              "      <td>LQ_CLOSE</td>\n",
              "    </tr>\n",
              "    <tr>\n",
              "      <th>1</th>\n",
              "      <td>java optionals immutable like understand java ...</td>\n",
              "      <td>HQ</td>\n",
              "    </tr>\n",
              "    <tr>\n",
              "      <th>2</th>\n",
              "      <td>text overlay image darkened opacity react nati...</td>\n",
              "      <td>HQ</td>\n",
              "    </tr>\n",
              "    <tr>\n",
              "      <th>3</th>\n",
              "      <td>ternary operator swift picky question simple c...</td>\n",
              "      <td>HQ</td>\n",
              "    </tr>\n",
              "    <tr>\n",
              "      <th>4</th>\n",
              "      <td>hide show fab scale animation using custom flo...</td>\n",
              "      <td>HQ</td>\n",
              "    </tr>\n",
              "  </tbody>\n",
              "</table>\n",
              "</div>"
            ],
            "text/plain": [
              "                                              Merged         Y\n",
              "0  java repeat task every random seconds already ...  LQ_CLOSE\n",
              "1  java optionals immutable like understand java ...        HQ\n",
              "2  text overlay image darkened opacity react nati...        HQ\n",
              "3  ternary operator swift picky question simple c...        HQ\n",
              "4  hide show fab scale animation using custom flo...        HQ"
            ]
          },
          "execution_count": 7,
          "metadata": {},
          "output_type": "execute_result"
        }
      ],
      "source": [
        "traindf.head(5)"
      ]
    },
    {
      "cell_type": "code",
      "execution_count": null,
      "id": "6a678b68",
      "metadata": {
        "execution": {
          "iopub.execute_input": "2022-04-25T16:04:14.756456Z",
          "iopub.status.busy": "2022-04-25T16:04:14.755907Z",
          "iopub.status.idle": "2022-04-25T16:04:14.760706Z",
          "shell.execute_reply": "2022-04-25T16:04:14.759953Z"
        },
        "id": "6a678b68",
        "papermill": {
          "duration": 0.035663,
          "end_time": "2022-04-25T16:04:14.762323",
          "exception": false,
          "start_time": "2022-04-25T16:04:14.726660",
          "status": "completed"
        },
        "tags": []
      },
      "outputs": [],
      "source": [
        "# label encoding\n",
        "# possible_labels = data.Y.unique()\n",
        "label_dict={'HQ': 2, 'LQ_CLOSE': 0, 'LQ_EDIT': 1}"
      ]
    },
    {
      "cell_type": "code",
      "execution_count": null,
      "id": "2a509041",
      "metadata": {
        "execution": {
          "iopub.execute_input": "2022-04-25T16:04:14.820953Z",
          "iopub.status.busy": "2022-04-25T16:04:14.820405Z",
          "iopub.status.idle": "2022-04-25T16:04:14.866172Z",
          "shell.execute_reply": "2022-04-25T16:04:14.865395Z"
        },
        "id": "2a509041",
        "papermill": {
          "duration": 0.076318,
          "end_time": "2022-04-25T16:04:14.867837",
          "exception": false,
          "start_time": "2022-04-25T16:04:14.791519",
          "status": "completed"
        },
        "tags": []
      },
      "outputs": [],
      "source": [
        "traindf['label'] = traindf.Y.replace(label_dict)\n",
        "testdf['label'] = testdf.Y.replace(label_dict)\n",
        "valdf['label'] = valdf.Y.replace(label_dict)"
      ]
    },
    {
      "cell_type": "code",
      "execution_count": null,
      "id": "efb8cc81",
      "metadata": {
        "execution": {
          "iopub.execute_input": "2022-04-25T16:04:14.931254Z",
          "iopub.status.busy": "2022-04-25T16:04:14.931033Z",
          "iopub.status.idle": "2022-04-25T16:04:14.935021Z",
          "shell.execute_reply": "2022-04-25T16:04:14.934097Z"
        },
        "id": "efb8cc81",
        "papermill": {
          "duration": 0.040305,
          "end_time": "2022-04-25T16:04:14.937291",
          "exception": false,
          "start_time": "2022-04-25T16:04:14.896986",
          "status": "completed"
        },
        "tags": []
      },
      "outputs": [],
      "source": [
        "encoded_data_train=None\n",
        "encoded_data_test=None\n",
        "encoded_data_val=None"
      ]
    },
    {
      "cell_type": "code",
      "execution_count": null,
      "id": "400819db",
      "metadata": {
        "execution": {
          "iopub.execute_input": "2022-04-25T16:04:15.006611Z",
          "iopub.status.busy": "2022-04-25T16:04:15.006383Z",
          "iopub.status.idle": "2022-04-25T16:06:10.780286Z",
          "shell.execute_reply": "2022-04-25T16:06:10.779522Z"
        },
        "id": "400819db",
        "outputId": "8ae20f3a-43f3-44ce-b83e-b5da75873aa9",
        "papermill": {
          "duration": 115.810759,
          "end_time": "2022-04-25T16:06:10.782557",
          "exception": false,
          "start_time": "2022-04-25T16:04:14.971798",
          "status": "completed"
        },
        "tags": [],
        "colab": {
          "referenced_widgets": [
            "78af84bd95fe49b9ad90a455720907f0",
            "924ab6a920b64b709be366e0a68216e1"
          ]
        }
      },
      "outputs": [
        {
          "data": {
            "application/vnd.jupyter.widget-view+json": {
              "model_id": "78af84bd95fe49b9ad90a455720907f0",
              "version_major": 2,
              "version_minor": 0
            },
            "text/plain": [
              "Downloading:   0%|          | 0.00/742k [00:00<?, ?B/s]"
            ]
          },
          "metadata": {},
          "output_type": "display_data"
        },
        {
          "data": {
            "application/vnd.jupyter.widget-view+json": {
              "model_id": "924ab6a920b64b709be366e0a68216e1",
              "version_major": 2,
              "version_minor": 0
            },
            "text/plain": [
              "Downloading:   0%|          | 0.00/684 [00:00<?, ?B/s]"
            ]
          },
          "metadata": {},
          "output_type": "display_data"
        },
        {
          "name": "stderr",
          "output_type": "stream",
          "text": [
            "Truncation was not explicitly activated but `max_length` is provided a specific value, please use `truncation=True` to explicitly truncate examples to max length. Defaulting to 'longest_first' truncation strategy. If you encode pairs of sequences (GLUE-style) with the tokenizer you can select this strategy more precisely by providing a specific strategy to `truncation`.\n",
            "/opt/conda/lib/python3.7/site-packages/transformers/tokenization_utils_base.py:2277: FutureWarning: The `pad_to_max_length` argument is deprecated and will be removed in a future version, use `padding=True` or `padding='longest'` to pad to the longest sequence in the batch, or use `padding='max_length'` to pad to a max length. In this case, you can give a specific length with `max_length` (e.g. `max_length=45`) or leave max_length to None to pad to the maximal input size of the model (e.g. 512 for Bert).\n",
            "  FutureWarning,\n"
          ]
        }
      ],
      "source": [
        "tokenizer = AlbertTokenizer.from_pretrained(\"albert-base-v2\")\n",
        "\n",
        "encoded_data_train = tokenizer.batch_encode_plus(\n",
        "    traindf.Merged.values, \n",
        "    add_special_tokens=True, \n",
        "    # return_attention_mask=True, \n",
        "    pad_to_max_length=True, \n",
        "    max_length=128, \n",
        "    return_tensors='pt'\n",
        ")\n",
        "\n",
        "encoded_data_test = tokenizer.batch_encode_plus(\n",
        "    testdf.Merged.values, \n",
        "    add_special_tokens=True, \n",
        "    # return_attention_mask=True, \n",
        "    pad_to_max_length=True, \n",
        "    max_length=128, \n",
        "    return_tensors='pt'\n",
        ")\n",
        "\n",
        "encoded_data_val = tokenizer.batch_encode_plus(\n",
        "    valdf.Merged.values, \n",
        "    add_special_tokens=True, \n",
        "    # return_attention_mask=True, \n",
        "    pad_to_max_length=True, \n",
        "    max_length=128, \n",
        "    return_tensors='pt'\n",
        ")"
      ]
    },
    {
      "cell_type": "code",
      "execution_count": null,
      "id": "cb3837b4",
      "metadata": {
        "execution": {
          "iopub.execute_input": "2022-04-25T16:06:10.844620Z",
          "iopub.status.busy": "2022-04-25T16:06:10.843860Z",
          "iopub.status.idle": "2022-04-25T16:06:10.849440Z",
          "shell.execute_reply": "2022-04-25T16:06:10.848778Z"
        },
        "id": "cb3837b4",
        "papermill": {
          "duration": 0.038064,
          "end_time": "2022-04-25T16:06:10.851058",
          "exception": false,
          "start_time": "2022-04-25T16:06:10.812994",
          "status": "completed"
        },
        "tags": []
      },
      "outputs": [],
      "source": [
        "if not encoded_data_train:\n",
        "    filehandler = open(\"/kaggle/working/encoded_data_train.obj\", 'rb') \n",
        "    encoded_data_train = pickle.load(filehandler)\n",
        "if not encoded_data_test:\n",
        "    filehandler = open(\"/kaggle/working/encoded_data_test.obj\", 'rb') \n",
        "    encoded_data_test = pickle.load(filehandler)\n",
        "if not encoded_data_val:\n",
        "    filehandler = open(\"/kaggle/working/encoded_data_val.obj\", 'rb') \n",
        "    encoded_data_val = pickle.load(filehandler)\n",
        "    "
      ]
    },
    {
      "cell_type": "code",
      "execution_count": null,
      "id": "5aefad16",
      "metadata": {
        "execution": {
          "iopub.execute_input": "2022-04-25T16:06:10.912229Z",
          "iopub.status.busy": "2022-04-25T16:06:10.911754Z",
          "iopub.status.idle": "2022-04-25T16:06:10.915068Z",
          "shell.execute_reply": "2022-04-25T16:06:10.914297Z"
        },
        "id": "5aefad16",
        "papermill": {
          "duration": 0.035759,
          "end_time": "2022-04-25T16:06:10.916757",
          "exception": false,
          "start_time": "2022-04-25T16:06:10.880998",
          "status": "completed"
        },
        "tags": []
      },
      "outputs": [],
      "source": [
        "# filehandler = open(\"encoded_data_train.obj\", 'wb') \n",
        "# pickle.dump(encoded_data_train, filehandler)\n",
        "# filehandler = open(\"encoded_data_test.obj\", 'wb') \n",
        "# pickle.dump(encoded_data_test, filehandler)\n",
        "# filehandler = open(\"encoded_data_val.obj\", 'wb') \n",
        "# pickle.dump(encoded_data_val, filehandler)"
      ]
    },
    {
      "cell_type": "code",
      "execution_count": null,
      "id": "5de88edb",
      "metadata": {
        "execution": {
          "iopub.execute_input": "2022-04-25T16:06:10.979146Z",
          "iopub.status.busy": "2022-04-25T16:06:10.978935Z",
          "iopub.status.idle": "2022-04-25T16:06:10.984148Z",
          "shell.execute_reply": "2022-04-25T16:06:10.983470Z"
        },
        "id": "5de88edb",
        "outputId": "7f7459b2-b357-4c7e-a44c-5a0b30017989",
        "papermill": {
          "duration": 0.038354,
          "end_time": "2022-04-25T16:06:10.986041",
          "exception": false,
          "start_time": "2022-04-25T16:06:10.947687",
          "status": "completed"
        },
        "tags": []
      },
      "outputs": [
        {
          "name": "stdout",
          "output_type": "stream",
          "text": [
            "torch.Size([45000, 128])\n",
            "torch.Size([10050, 128])\n",
            "torch.Size([4950, 128])\n"
          ]
        }
      ],
      "source": [
        "print(encoded_data_train['input_ids'].shape)\n",
        "print(encoded_data_test['input_ids'].shape)\n",
        "print(encoded_data_val['input_ids'].shape)"
      ]
    },
    {
      "cell_type": "code",
      "execution_count": null,
      "id": "e8c95cc3",
      "metadata": {
        "execution": {
          "iopub.execute_input": "2022-04-25T16:06:11.048300Z",
          "iopub.status.busy": "2022-04-25T16:06:11.047860Z",
          "iopub.status.idle": "2022-04-25T16:06:11.052724Z",
          "shell.execute_reply": "2022-04-25T16:06:11.052053Z"
        },
        "id": "e8c95cc3",
        "outputId": "a34dc907-657d-4fd1-8492-e88485c5dc4b",
        "papermill": {
          "duration": 0.038343,
          "end_time": "2022-04-25T16:06:11.054397",
          "exception": false,
          "start_time": "2022-04-25T16:06:11.016054",
          "status": "completed"
        },
        "tags": []
      },
      "outputs": [
        {
          "data": {
            "text/plain": [
              "dict_keys(['input_ids', 'token_type_ids', 'attention_mask'])"
            ]
          },
          "execution_count": 15,
          "metadata": {},
          "output_type": "execute_result"
        }
      ],
      "source": [
        "encoded_data_train.keys()"
      ]
    },
    {
      "cell_type": "code",
      "execution_count": null,
      "id": "47fd471a",
      "metadata": {
        "execution": {
          "iopub.execute_input": "2022-04-25T16:06:11.117373Z",
          "iopub.status.busy": "2022-04-25T16:06:11.116795Z",
          "iopub.status.idle": "2022-04-25T16:06:11.121840Z",
          "shell.execute_reply": "2022-04-25T16:06:11.121154Z"
        },
        "id": "47fd471a",
        "papermill": {
          "duration": 0.038313,
          "end_time": "2022-04-25T16:06:11.123518",
          "exception": false,
          "start_time": "2022-04-25T16:06:11.085205",
          "status": "completed"
        },
        "tags": []
      },
      "outputs": [],
      "source": [
        "class stkofdata(Dataset):\n",
        "    def __init__(self,encoded_data,labels):\n",
        "        self.encoded_data=encoded_data['input_ids']\n",
        "        self.labels=torch.tensor(labels.values)\n",
        "\n",
        "    def __getitem__(self, index):\n",
        "        return self.encoded_data[index],self.labels[index]\n",
        "\n",
        "    def __len__(self):\n",
        "        return len(self.labels)\n",
        "\n",
        "        \n",
        "\n"
      ]
    },
    {
      "cell_type": "code",
      "execution_count": null,
      "id": "51edaefb",
      "metadata": {
        "execution": {
          "iopub.execute_input": "2022-04-25T16:06:11.186133Z",
          "iopub.status.busy": "2022-04-25T16:06:11.185599Z",
          "iopub.status.idle": "2022-04-25T16:06:11.199674Z",
          "shell.execute_reply": "2022-04-25T16:06:11.199054Z"
        },
        "id": "51edaefb",
        "papermill": {
          "duration": 0.047102,
          "end_time": "2022-04-25T16:06:11.201331",
          "exception": false,
          "start_time": "2022-04-25T16:06:11.154229",
          "status": "completed"
        },
        "tags": []
      },
      "outputs": [],
      "source": [
        "trainDT = stkofdata(encoded_data_train,traindf['label'])\n",
        "testDT = stkofdata(encoded_data_test,testdf['label'])\n",
        "validDT = stkofdata(encoded_data_val,valdf['label'])"
      ]
    },
    {
      "cell_type": "code",
      "execution_count": null,
      "id": "52aa183a",
      "metadata": {
        "execution": {
          "iopub.execute_input": "2022-04-25T16:06:11.263948Z",
          "iopub.status.busy": "2022-04-25T16:06:11.263751Z",
          "iopub.status.idle": "2022-04-25T16:06:11.267993Z",
          "shell.execute_reply": "2022-04-25T16:06:11.267287Z"
        },
        "id": "52aa183a",
        "papermill": {
          "duration": 0.037143,
          "end_time": "2022-04-25T16:06:11.269618",
          "exception": false,
          "start_time": "2022-04-25T16:06:11.232475",
          "status": "completed"
        },
        "tags": []
      },
      "outputs": [],
      "source": [
        "trainloader = DataLoader(trainDT,shuffle=True,batch_size=84)\n",
        "testloader = DataLoader(testDT,shuffle=True,batch_size=84)\n",
        "validloader = DataLoader(validDT,shuffle=True,batch_size=84)"
      ]
    },
    {
      "cell_type": "code",
      "execution_count": null,
      "id": "cc37ee35",
      "metadata": {
        "execution": {
          "iopub.execute_input": "2022-04-25T16:06:11.331927Z",
          "iopub.status.busy": "2022-04-25T16:06:11.331731Z",
          "iopub.status.idle": "2022-04-25T16:06:11.336124Z",
          "shell.execute_reply": "2022-04-25T16:06:11.335479Z"
        },
        "id": "cc37ee35",
        "outputId": "821b1aee-2863-4be6-8923-27df7ca52cc0",
        "papermill": {
          "duration": 0.037859,
          "end_time": "2022-04-25T16:06:11.337776",
          "exception": false,
          "start_time": "2022-04-25T16:06:11.299917",
          "status": "completed"
        },
        "tags": []
      },
      "outputs": [
        {
          "data": {
            "text/plain": [
              "84"
            ]
          },
          "execution_count": 19,
          "metadata": {},
          "output_type": "execute_result"
        }
      ],
      "source": [
        "trainloader.batch_size"
      ]
    },
    {
      "cell_type": "code",
      "execution_count": null,
      "id": "dd5ddeb1",
      "metadata": {
        "execution": {
          "iopub.execute_input": "2022-04-25T16:06:11.400766Z",
          "iopub.status.busy": "2022-04-25T16:06:11.400242Z",
          "iopub.status.idle": "2022-04-25T16:06:11.413604Z",
          "shell.execute_reply": "2022-04-25T16:06:11.412978Z"
        },
        "id": "dd5ddeb1",
        "papermill": {
          "duration": 0.046724,
          "end_time": "2022-04-25T16:06:11.415258",
          "exception": false,
          "start_time": "2022-04-25T16:06:11.368534",
          "status": "completed"
        },
        "tags": []
      },
      "outputs": [],
      "source": [
        "class trainer(object):\n",
        "    def __init__(self,model,trainloader,validloader,EPOCHS=2,modelpth=\"/content/modelsaved/\"):\n",
        "        self.model=model\n",
        "        self.trainloader=trainloader\n",
        "        self.validloader=validloader\n",
        "        self.EPOCHS=EPOCHS\n",
        "        self.currEPOCH=0\n",
        "        self.modelpth=modelpth\n",
        "        self.device=torch.device(\"cuda\" if torch.cuda.is_available() else \"cpu\")\n",
        "        self.model.to(self.device)\n",
        "        self.Optimizer=torch.optim.AdamW(self.model.parameters(), lr=3e-5, weight_decay=5e-6)\n",
        "        self.lossfunction = CrossEntropyLoss()\n",
        "#         self.schedule=get_linear_schedule_with_warmup(self.Optimizer, \n",
        "#                                             num_warmup_steps=50,\n",
        "#                                             num_training_steps=int(len(self.trainloader)*self.EPOCHS/trainloader.batch_size))\n",
        "\n",
        "    def evaluate(self):\n",
        "        self.model.eval()\n",
        "        total_testloss=0\n",
        "\n",
        "        for data in self.validloader:\n",
        "            input,label=data[0],data[1]\n",
        "            input,label=(input.to(self.device),label.to(self.device))\n",
        "            with torch.no_grad():\n",
        "                output=self.model(input_ids=input,labels=label)\n",
        "            loss=output[0]\n",
        "            total_testloss+=loss.item()\n",
        "\n",
        "        return total_testloss/len(self.validloader)\n",
        "\n",
        "    \n",
        "    def fit(self):\n",
        "        \n",
        "        for epoch in range(self.currEPOCH,self.currEPOCH+self.EPOCHS):\n",
        "            print(f\"epoch {epoch + 1}/{self.currEPOCH+self.EPOCHS}\")\n",
        "            self.model.train()\n",
        "            epoch_loss=0\n",
        "            step=0\n",
        "            epoch_loss=0\n",
        "            for data in self.trainloader:\n",
        "                step+=1\n",
        "                input,label=data[0],data[1]\n",
        "                input,label=(input.to(self.device),label.to(self.device))\n",
        "                self.Optimizer.zero_grad()\n",
        "                output=self.model(input_ids=input,labels=label)\n",
        "                # print(output.logits.shape)\n",
        "                loss = output.loss\n",
        "                epoch_loss+=loss.item()\n",
        "                loss.backward()\n",
        "                self.Optimizer.step()\n",
        "#                 self.schedule.step()\n",
        "                \n",
        "\n",
        "            epoch_loss/=step\n",
        "            print(f\"epoch {epoch + 1} average loss: {epoch_loss:.4f}\")\n",
        "\n",
        "            if((epoch)%5==1):\n",
        "                testloss=self.evaluate()\n",
        "                print(f\"current epoch: {epoch + 1} Avg testloss: {testloss:.4f}\")\n",
        "\n",
        "            torch.save(self.model.state_dict(),str(self.model.__class__.__name__)+\".pth\")\n"
      ]
    },
    {
      "cell_type": "code",
      "execution_count": null,
      "id": "412ba67a",
      "metadata": {
        "execution": {
          "iopub.execute_input": "2022-04-25T16:06:11.478433Z",
          "iopub.status.busy": "2022-04-25T16:06:11.477972Z",
          "iopub.status.idle": "2022-04-25T16:06:12.190605Z",
          "shell.execute_reply": "2022-04-25T16:06:12.189761Z"
        },
        "papermill": {
          "duration": 0.746389,
          "end_time": "2022-04-25T16:06:12.192752",
          "exception": false,
          "start_time": "2022-04-25T16:06:11.446363",
          "status": "completed"
        },
        "tags": [],
        "id": "412ba67a",
        "outputId": "d8d56750-e9a2-4b92-fcbe-7539f725e1cf"
      },
      "outputs": [
        {
          "name": "stdout",
          "output_type": "stream",
          "text": [
            "Mon Apr 25 16:06:12 2022       \r\n",
            "+-----------------------------------------------------------------------------+\r\n",
            "| NVIDIA-SMI 470.82.01    Driver Version: 470.82.01    CUDA Version: 11.4     |\r\n",
            "|-------------------------------+----------------------+----------------------+\r\n",
            "| GPU  Name        Persistence-M| Bus-Id        Disp.A | Volatile Uncorr. ECC |\r\n",
            "| Fan  Temp  Perf  Pwr:Usage/Cap|         Memory-Usage | GPU-Util  Compute M. |\r\n",
            "|                               |                      |               MIG M. |\r\n",
            "|===============================+======================+======================|\r\n",
            "|   0  Tesla P100-PCIE...  Off  | 00000000:00:04.0 Off |                    0 |\r\n",
            "| N/A   34C    P0    26W / 250W |      0MiB / 16280MiB |      0%      Default |\r\n",
            "|                               |                      |                  N/A |\r\n",
            "+-------------------------------+----------------------+----------------------+\r\n",
            "                                                                               \r\n",
            "+-----------------------------------------------------------------------------+\r\n",
            "| Processes:                                                                  |\r\n",
            "|  GPU   GI   CI        PID   Type   Process name                  GPU Memory |\r\n",
            "|        ID   ID                                                   Usage      |\r\n",
            "|=============================================================================|\r\n",
            "|  No running processes found                                                 |\r\n",
            "+-----------------------------------------------------------------------------+\r\n"
          ]
        }
      ],
      "source": [
        "!nvidia-smi"
      ]
    },
    {
      "cell_type": "code",
      "execution_count": null,
      "id": "a417cf9a",
      "metadata": {
        "execution": {
          "iopub.execute_input": "2022-04-25T16:06:12.259148Z",
          "iopub.status.busy": "2022-04-25T16:06:12.258420Z",
          "iopub.status.idle": "2022-04-25T16:06:14.719441Z",
          "shell.execute_reply": "2022-04-25T16:06:14.717581Z"
        },
        "id": "a417cf9a",
        "outputId": "4e44c884-7405-4638-8cf2-41d37ff9c5f3",
        "papermill": {
          "duration": 2.496421,
          "end_time": "2022-04-25T16:06:14.721495",
          "exception": false,
          "start_time": "2022-04-25T16:06:12.225074",
          "status": "completed"
        },
        "tags": [],
        "colab": {
          "referenced_widgets": [
            "88dcbeb543ad44adacdb3c005bd966d1"
          ]
        }
      },
      "outputs": [
        {
          "data": {
            "application/vnd.jupyter.widget-view+json": {
              "model_id": "88dcbeb543ad44adacdb3c005bd966d1",
              "version_major": 2,
              "version_minor": 0
            },
            "text/plain": [
              "Downloading:   0%|          | 0.00/45.2M [00:00<?, ?B/s]"
            ]
          },
          "metadata": {},
          "output_type": "display_data"
        },
        {
          "name": "stderr",
          "output_type": "stream",
          "text": [
            "Some weights of the model checkpoint at albert-base-v2 were not used when initializing AlbertForSequenceClassification: ['predictions.decoder.weight', 'predictions.LayerNorm.bias', 'predictions.dense.bias', 'predictions.dense.weight', 'predictions.LayerNorm.weight', 'predictions.bias', 'predictions.decoder.bias']\n",
            "- This IS expected if you are initializing AlbertForSequenceClassification from the checkpoint of a model trained on another task or with another architecture (e.g. initializing a BertForSequenceClassification model from a BertForPreTraining model).\n",
            "- This IS NOT expected if you are initializing AlbertForSequenceClassification from the checkpoint of a model that you expect to be exactly identical (initializing a BertForSequenceClassification model from a BertForSequenceClassification model).\n",
            "Some weights of AlbertForSequenceClassification were not initialized from the model checkpoint at albert-base-v2 and are newly initialized: ['classifier.bias', 'classifier.weight']\n",
            "You should probably TRAIN this model on a down-stream task to be able to use it for predictions and inference.\n"
          ]
        }
      ],
      "source": [
        "model = AlbertForSequenceClassification.from_pretrained(\"albert-base-v2\",\n",
        "                                                      num_labels=3,\n",
        "                                                      output_attentions=False,\n",
        "                                                      output_hidden_states=True)\n"
      ]
    },
    {
      "cell_type": "code",
      "execution_count": null,
      "id": "8822b898",
      "metadata": {
        "execution": {
          "iopub.execute_input": "2022-04-25T16:06:14.792660Z",
          "iopub.status.busy": "2022-04-25T16:06:14.792095Z",
          "iopub.status.idle": "2022-04-25T16:06:14.797558Z",
          "shell.execute_reply": "2022-04-25T16:06:14.796907Z"
        },
        "id": "8822b898",
        "outputId": "2b60d5a6-df24-446b-a77e-291e0ae43ef9",
        "papermill": {
          "duration": 0.041224,
          "end_time": "2022-04-25T16:06:14.799231",
          "exception": false,
          "start_time": "2022-04-25T16:06:14.758007",
          "status": "completed"
        },
        "tags": []
      },
      "outputs": [
        {
          "data": {
            "text/plain": [
              "AlbertForSequenceClassification(\n",
              "  (albert): AlbertModel(\n",
              "    (embeddings): AlbertEmbeddings(\n",
              "      (word_embeddings): Embedding(30000, 128, padding_idx=0)\n",
              "      (position_embeddings): Embedding(512, 128)\n",
              "      (token_type_embeddings): Embedding(2, 128)\n",
              "      (LayerNorm): LayerNorm((128,), eps=1e-12, elementwise_affine=True)\n",
              "      (dropout): Dropout(p=0, inplace=False)\n",
              "    )\n",
              "    (encoder): AlbertTransformer(\n",
              "      (embedding_hidden_mapping_in): Linear(in_features=128, out_features=768, bias=True)\n",
              "      (albert_layer_groups): ModuleList(\n",
              "        (0): AlbertLayerGroup(\n",
              "          (albert_layers): ModuleList(\n",
              "            (0): AlbertLayer(\n",
              "              (full_layer_layer_norm): LayerNorm((768,), eps=1e-12, elementwise_affine=True)\n",
              "              (attention): AlbertAttention(\n",
              "                (query): Linear(in_features=768, out_features=768, bias=True)\n",
              "                (key): Linear(in_features=768, out_features=768, bias=True)\n",
              "                (value): Linear(in_features=768, out_features=768, bias=True)\n",
              "                (attention_dropout): Dropout(p=0, inplace=False)\n",
              "                (output_dropout): Dropout(p=0, inplace=False)\n",
              "                (dense): Linear(in_features=768, out_features=768, bias=True)\n",
              "                (LayerNorm): LayerNorm((768,), eps=1e-12, elementwise_affine=True)\n",
              "              )\n",
              "              (ffn): Linear(in_features=768, out_features=3072, bias=True)\n",
              "              (ffn_output): Linear(in_features=3072, out_features=768, bias=True)\n",
              "              (activation): NewGELUActivation()\n",
              "              (dropout): Dropout(p=0, inplace=False)\n",
              "            )\n",
              "          )\n",
              "        )\n",
              "      )\n",
              "    )\n",
              "    (pooler): Linear(in_features=768, out_features=768, bias=True)\n",
              "    (pooler_activation): Tanh()\n",
              "  )\n",
              "  (dropout): Dropout(p=0.1, inplace=False)\n",
              "  (classifier): Linear(in_features=768, out_features=3, bias=True)\n",
              ")"
            ]
          },
          "execution_count": 23,
          "metadata": {},
          "output_type": "execute_result"
        }
      ],
      "source": [
        "# mdlsum=summary(model,verbose=2,input_size=(256))\n",
        "model"
      ]
    },
    {
      "cell_type": "code",
      "execution_count": null,
      "id": "d2cc037d",
      "metadata": {
        "execution": {
          "iopub.execute_input": "2022-04-25T16:06:14.866038Z",
          "iopub.status.busy": "2022-04-25T16:06:14.865470Z",
          "iopub.status.idle": "2022-04-25T16:06:14.871780Z",
          "shell.execute_reply": "2022-04-25T16:06:14.871013Z"
        },
        "id": "d2cc037d",
        "outputId": "5f0bbbc2-9c7c-4b24-faee-4945b36229ad",
        "papermill": {
          "duration": 0.041472,
          "end_time": "2022-04-25T16:06:14.873458",
          "exception": false,
          "start_time": "2022-04-25T16:06:14.831986",
          "status": "completed"
        },
        "tags": []
      },
      "outputs": [
        {
          "data": {
            "text/plain": [
              "11.685891"
            ]
          },
          "execution_count": 24,
          "metadata": {},
          "output_type": "execute_result"
        }
      ],
      "source": [
        "pytorch_total_params = sum(p.numel() for p in model.parameters())/1000000\n",
        "pytorch_total_params #Model parameters in millions"
      ]
    },
    {
      "cell_type": "code",
      "execution_count": null,
      "id": "4a1f6419",
      "metadata": {
        "execution": {
          "iopub.execute_input": "2022-04-25T16:06:14.942047Z",
          "iopub.status.busy": "2022-04-25T16:06:14.941856Z",
          "iopub.status.idle": "2022-04-25T16:06:19.905794Z",
          "shell.execute_reply": "2022-04-25T16:06:19.904986Z"
        },
        "id": "4a1f6419",
        "papermill": {
          "duration": 5.001379,
          "end_time": "2022-04-25T16:06:19.907867",
          "exception": false,
          "start_time": "2022-04-25T16:06:14.906488",
          "status": "completed"
        },
        "tags": []
      },
      "outputs": [],
      "source": [
        "mdtrainer=trainer(model=model,trainloader=trainloader,validloader=validloader,EPOCHS=20)"
      ]
    },
    {
      "cell_type": "code",
      "execution_count": null,
      "id": "51007500",
      "metadata": {
        "execution": {
          "iopub.execute_input": "2022-04-25T16:06:19.976488Z",
          "iopub.status.busy": "2022-04-25T16:06:19.976261Z",
          "iopub.status.idle": "2022-04-25T19:08:28.235971Z",
          "shell.execute_reply": "2022-04-25T19:08:28.235146Z"
        },
        "id": "51007500",
        "outputId": "8dec8041-6386-4349-d5e5-f953741b1764",
        "papermill": {
          "duration": 10928.3404,
          "end_time": "2022-04-25T19:08:28.282573",
          "exception": false,
          "start_time": "2022-04-25T16:06:19.942173",
          "status": "completed"
        },
        "tags": []
      },
      "outputs": [
        {
          "name": "stdout",
          "output_type": "stream",
          "text": [
            "epoch 1/20\n",
            "epoch 1 average loss: 0.6251\n",
            "epoch 2/20\n",
            "epoch 2 average loss: 0.3373\n",
            "current epoch: 2 Avg testloss: 0.3538\n",
            "epoch 3/20\n",
            "epoch 3 average loss: 0.2668\n",
            "epoch 4/20\n",
            "epoch 4 average loss: 0.2225\n",
            "epoch 5/20\n",
            "epoch 5 average loss: 0.1738\n",
            "epoch 6/20\n",
            "epoch 6 average loss: 0.1332\n",
            "epoch 7/20\n",
            "epoch 7 average loss: 0.0935\n",
            "current epoch: 7 Avg testloss: 0.5157\n",
            "epoch 8/20\n",
            "epoch 8 average loss: 0.0703\n",
            "epoch 9/20\n",
            "epoch 9 average loss: 0.0573\n",
            "epoch 10/20\n",
            "epoch 10 average loss: 0.0450\n",
            "epoch 11/20\n",
            "epoch 11 average loss: 0.0386\n",
            "epoch 12/20\n",
            "epoch 12 average loss: 0.0324\n",
            "current epoch: 12 Avg testloss: 0.5160\n",
            "epoch 13/20\n",
            "epoch 13 average loss: 0.0273\n",
            "epoch 14/20\n",
            "epoch 14 average loss: 0.0291\n",
            "epoch 15/20\n",
            "epoch 15 average loss: 0.0268\n",
            "epoch 16/20\n",
            "epoch 16 average loss: 0.0211\n",
            "epoch 17/20\n",
            "epoch 17 average loss: 0.0244\n",
            "current epoch: 17 Avg testloss: 0.6088\n",
            "epoch 18/20\n",
            "epoch 18 average loss: 0.0220\n",
            "epoch 19/20\n",
            "epoch 19 average loss: 0.0184\n",
            "epoch 20/20\n",
            "epoch 20 average loss: 0.0201\n"
          ]
        }
      ],
      "source": [
        "mdtrainer.fit()"
      ]
    },
    {
      "cell_type": "code",
      "execution_count": null,
      "id": "e709d7da",
      "metadata": {
        "execution": {
          "iopub.execute_input": "2022-04-25T19:08:28.378215Z",
          "iopub.status.busy": "2022-04-25T19:08:28.377613Z",
          "iopub.status.idle": "2022-04-25T19:08:29.146294Z",
          "shell.execute_reply": "2022-04-25T19:08:29.145393Z"
        },
        "id": "e709d7da",
        "outputId": "b4940621-63ad-4a83-b91a-68680abea23a",
        "papermill": {
          "duration": 0.822981,
          "end_time": "2022-04-25T19:08:29.149725",
          "exception": false,
          "start_time": "2022-04-25T19:08:28.326744",
          "status": "completed"
        },
        "tags": []
      },
      "outputs": [
        {
          "name": "stdout",
          "output_type": "stream",
          "text": [
            "Mon Apr 25 19:08:28 2022       \r\n",
            "+-----------------------------------------------------------------------------+\r\n",
            "| NVIDIA-SMI 470.82.01    Driver Version: 470.82.01    CUDA Version: 11.4     |\r\n",
            "|-------------------------------+----------------------+----------------------+\r\n",
            "| GPU  Name        Persistence-M| Bus-Id        Disp.A | Volatile Uncorr. ECC |\r\n",
            "| Fan  Temp  Perf  Pwr:Usage/Cap|         Memory-Usage | GPU-Util  Compute M. |\r\n",
            "|                               |                      |               MIG M. |\r\n",
            "|===============================+======================+======================|\r\n",
            "|   0  Tesla P100-PCIE...  Off  | 00000000:00:04.0 Off |                    0 |\r\n",
            "| N/A   59C    P0    44W / 250W |  14171MiB / 16280MiB |      0%      Default |\r\n",
            "|                               |                      |                  N/A |\r\n",
            "+-------------------------------+----------------------+----------------------+\r\n",
            "                                                                               \r\n",
            "+-----------------------------------------------------------------------------+\r\n",
            "| Processes:                                                                  |\r\n",
            "|  GPU   GI   CI        PID   Type   Process name                  GPU Memory |\r\n",
            "|        ID   ID                                                   Usage      |\r\n",
            "|=============================================================================|\r\n",
            "+-----------------------------------------------------------------------------+\r\n"
          ]
        }
      ],
      "source": [
        "!nvidia-smi"
      ]
    },
    {
      "cell_type": "markdown",
      "source": [
        "# Model Evaluation on test"
      ],
      "metadata": {
        "id": "eJNQ1jMUfuro"
      },
      "id": "eJNQ1jMUfuro"
    },
    {
      "cell_type": "code",
      "source": [
        "device=torch.device(\"cuda\" if torch.cuda.is_available() else \"cpu\")\n",
        "model = AlbertForSequenceClassification.from_pretrained(\"albert-base-v2\",\n",
        "                                                      num_labels=3,\n",
        "                                                      output_attentions=False,\n",
        "                                                      output_hidden_states=True)\n",
        "\n",
        "model.load_state_dict(torch.load(\"modelsaved/AlbertForSequenceClassification.pth\"))\n",
        "model.to(device)"
      ],
      "metadata": {
        "id": "EEmLmmf_Bmw8",
        "colab": {
          "base_uri": "https://localhost:8080/"
        },
        "outputId": "9d058276-0aa2-4bce-e5eb-f40bafd732a7"
      },
      "execution_count": null,
      "outputs": [
        {
          "output_type": "stream",
          "name": "stderr",
          "text": [
            "Some weights of the model checkpoint at albert-base-v2 were not used when initializing AlbertForSequenceClassification: ['predictions.decoder.bias', 'predictions.LayerNorm.weight', 'predictions.LayerNorm.bias', 'predictions.decoder.weight', 'predictions.dense.bias', 'predictions.dense.weight', 'predictions.bias']\n",
            "- This IS expected if you are initializing AlbertForSequenceClassification from the checkpoint of a model trained on another task or with another architecture (e.g. initializing a BertForSequenceClassification model from a BertForPreTraining model).\n",
            "- This IS NOT expected if you are initializing AlbertForSequenceClassification from the checkpoint of a model that you expect to be exactly identical (initializing a BertForSequenceClassification model from a BertForSequenceClassification model).\n",
            "Some weights of AlbertForSequenceClassification were not initialized from the model checkpoint at albert-base-v2 and are newly initialized: ['classifier.bias', 'classifier.weight']\n",
            "You should probably TRAIN this model on a down-stream task to be able to use it for predictions and inference.\n"
          ]
        },
        {
          "output_type": "execute_result",
          "data": {
            "text/plain": [
              "AlbertForSequenceClassification(\n",
              "  (albert): AlbertModel(\n",
              "    (embeddings): AlbertEmbeddings(\n",
              "      (word_embeddings): Embedding(30000, 128, padding_idx=0)\n",
              "      (position_embeddings): Embedding(512, 128)\n",
              "      (token_type_embeddings): Embedding(2, 128)\n",
              "      (LayerNorm): LayerNorm((128,), eps=1e-12, elementwise_affine=True)\n",
              "      (dropout): Dropout(p=0, inplace=False)\n",
              "    )\n",
              "    (encoder): AlbertTransformer(\n",
              "      (embedding_hidden_mapping_in): Linear(in_features=128, out_features=768, bias=True)\n",
              "      (albert_layer_groups): ModuleList(\n",
              "        (0): AlbertLayerGroup(\n",
              "          (albert_layers): ModuleList(\n",
              "            (0): AlbertLayer(\n",
              "              (full_layer_layer_norm): LayerNorm((768,), eps=1e-12, elementwise_affine=True)\n",
              "              (attention): AlbertAttention(\n",
              "                (query): Linear(in_features=768, out_features=768, bias=True)\n",
              "                (key): Linear(in_features=768, out_features=768, bias=True)\n",
              "                (value): Linear(in_features=768, out_features=768, bias=True)\n",
              "                (attention_dropout): Dropout(p=0, inplace=False)\n",
              "                (output_dropout): Dropout(p=0, inplace=False)\n",
              "                (dense): Linear(in_features=768, out_features=768, bias=True)\n",
              "                (LayerNorm): LayerNorm((768,), eps=1e-12, elementwise_affine=True)\n",
              "              )\n",
              "              (ffn): Linear(in_features=768, out_features=3072, bias=True)\n",
              "              (ffn_output): Linear(in_features=3072, out_features=768, bias=True)\n",
              "              (activation): NewGELUActivation()\n",
              "              (dropout): Dropout(p=0, inplace=False)\n",
              "            )\n",
              "          )\n",
              "        )\n",
              "      )\n",
              "    )\n",
              "    (pooler): Linear(in_features=768, out_features=768, bias=True)\n",
              "    (pooler_activation): Tanh()\n",
              "  )\n",
              "  (dropout): Dropout(p=0.1, inplace=False)\n",
              "  (classifier): Linear(in_features=768, out_features=3, bias=True)\n",
              ")"
            ]
          },
          "metadata": {},
          "execution_count": 27
        }
      ],
      "id": "EEmLmmf_Bmw8"
    },
    {
      "cell_type": "code",
      "source": [
        "\n",
        "def evaluate(model,testloader):\n",
        "        model.eval()\n",
        "        total_testloss=0\n",
        "        predictions=[]\n",
        "        labelactual=[]\n",
        "        for data in testloader:\n",
        "            input,label=data[0],data[1]\n",
        "            input,label=(input.to(device),label.to(device))\n",
        "            with torch.no_grad():\n",
        "                output=model(input_ids=input,labels=label)\n",
        "            loss=output[0]\n",
        "            logits=output[1]\n",
        "            logits = logits.detach().cpu().numpy()\n",
        "            total_testloss+=loss.item()\n",
        "            predictions.append(logits)\n",
        "            labelactual.append(data[1].cpu().numpy())\n",
        "        predictions = np.concatenate(predictions, axis=0)\n",
        "        labelactual = np.concatenate(labelactual, axis=0)\n",
        "        return total_testloss/len(testloader),predictions,labelactual"
      ],
      "metadata": {
        "id": "wgrj5BBWfyPj"
      },
      "execution_count": null,
      "outputs": [],
      "id": "wgrj5BBWfyPj"
    },
    {
      "cell_type": "code",
      "source": [
        "loss=evaluate(model=model,testloader=testloader)"
      ],
      "metadata": {
        "id": "7fCLnQkjgUpf"
      },
      "execution_count": null,
      "outputs": [],
      "id": "7fCLnQkjgUpf"
    },
    {
      "cell_type": "code",
      "source": [
        "print(\"loss is :\",loss[0],\" prediction shape:\",loss[1].shape,\" labellen:\",np.sum(len(loss[2])*loss[2][0].shape )) "
      ],
      "metadata": {
        "colab": {
          "base_uri": "https://localhost:8080/"
        },
        "id": "xnwXgLPcgaeR",
        "outputId": "f297da81-b258-4397-9b04-c2de7779d9f8"
      },
      "execution_count": null,
      "outputs": [
        {
          "output_type": "stream",
          "name": "stdout",
          "text": [
            "loss is : 0.6793444465845824  prediction shape: (10050, 3)  labellen: 0.0\n"
          ]
        }
      ],
      "id": "xnwXgLPcgaeR"
    },
    {
      "cell_type": "code",
      "source": [
        "def accuracy(predictions,labels):\n",
        "    label_dict_inverse = {v: k for k, v in label_dict.items()}\n",
        "    preds_flat = np.argmax(predictions, axis=1).flatten()\n",
        "    labels_flat = labels.flatten()\n",
        "    truepreds=0\n",
        "    totals=0\n",
        "    for label in np.unique(labels_flat):\n",
        "        y_preds = preds_flat[labels_flat==label]\n",
        "        y_true = labels_flat[labels_flat==label]\n",
        "        truepreds+=len(y_preds[y_preds==label])\n",
        "        totals+=len(y_true)\n",
        "        print(f'Class: {label_dict_inverse[label]}')\n",
        "        print(f'Accuracy: {len(y_preds[y_preds==label])}/{len(y_true)} ({(len(y_preds[y_preds==label])/len(y_true)):.4f})\\n')\n",
        "    \n",
        "    print(f\"Total Accuracy on test data: {(truepreds/totals):.4f}\")"
      ],
      "metadata": {
        "id": "sI5jhv1BkEa_"
      },
      "execution_count": null,
      "outputs": [],
      "id": "sI5jhv1BkEa_"
    },
    {
      "cell_type": "code",
      "source": [
        "accuracy(predictions=loss[1],labels=loss[2])"
      ],
      "metadata": {
        "colab": {
          "base_uri": "https://localhost:8080/"
        },
        "id": "D48J0rBvlvC2",
        "outputId": "fa526bc3-e82c-4ddc-e369-0a88d2b9d258"
      },
      "execution_count": null,
      "outputs": [
        {
          "output_type": "stream",
          "name": "stdout",
          "text": [
            "Class: LQ_CLOSE\n",
            "Accuracy: 2686/3340 (0.8042)\n",
            "\n",
            "Class: LQ_EDIT\n",
            "Accuracy: 3065/3335 (0.9190)\n",
            "\n",
            "Class: HQ\n",
            "Accuracy: 2980/3375 (0.8830)\n",
            "\n",
            "Total Accuracy on test data: 0.8688\n"
          ]
        }
      ],
      "id": "D48J0rBvlvC2"
    },
    {
      "cell_type": "markdown",
      "source": [
        "# TSNE Results"
      ],
      "metadata": {
        "id": "BFUCd1rfqEya"
      },
      "id": "BFUCd1rfqEya"
    },
    {
      "cell_type": "code",
      "execution_count": null,
      "metadata": {
        "id": "kMZ-Vlm4KL_F"
      },
      "outputs": [],
      "source": [
        "from sklearn.decomposition import PCA\n",
        "from sklearn.manifold import TSNE"
      ],
      "id": "kMZ-Vlm4KL_F"
    },
    {
      "cell_type": "code",
      "execution_count": null,
      "metadata": {
        "id": "VbtjNQOsJV-4"
      },
      "outputs": [],
      "source": [
        "testfeaturesGlobal,testlabelsGlobal = loss_test[3],loss_test[4]\n",
        "test_scaled_feat = (testfeaturesGlobal - np.min(testfeaturesGlobal))/ (np.max(testfeaturesGlobal) - np.min(testfeaturesGlobal))\n",
        "trainfeaturesGlobal,trainlabelsGlobal = loss_train[3],loss_train[4]\n",
        "train_scaled_feat = (trainfeaturesGlobal - np.min(trainfeaturesGlobal))/ (np.max(trainfeaturesGlobal) - np.min(trainfeaturesGlobal))"
      ],
      "id": "VbtjNQOsJV-4"
    },
    {
      "cell_type": "code",
      "execution_count": null,
      "metadata": {
        "colab": {
          "base_uri": "https://localhost:8080/"
        },
        "id": "iokPMRybKYVL",
        "outputId": "16dd87c7-49a4-4c77-bcc7-b23aeb139591"
      },
      "outputs": [
        {
          "name": "stderr",
          "output_type": "stream",
          "text": [
            "/usr/local/lib/python3.7/dist-packages/sklearn/manifold/_t_sne.py:783: FutureWarning: The default initialization in TSNE will change from 'random' to 'pca' in 1.2.\n",
            "  FutureWarning,\n",
            "/usr/local/lib/python3.7/dist-packages/sklearn/manifold/_t_sne.py:793: FutureWarning: The default learning rate in TSNE will change from 200.0 to 'auto' in 1.2.\n",
            "  FutureWarning,\n"
          ]
        },
        {
          "name": "stdout",
          "output_type": "stream",
          "text": [
            "[t-SNE] Computing 151 nearest neighbors...\n",
            "[t-SNE] Indexed 45000 samples in 0.027s...\n",
            "[t-SNE] Computed neighbors for 45000 samples in 113.724s...\n",
            "[t-SNE] Computed conditional probabilities for sample 1000 / 45000\n",
            "[t-SNE] Computed conditional probabilities for sample 2000 / 45000\n",
            "[t-SNE] Computed conditional probabilities for sample 3000 / 45000\n",
            "[t-SNE] Computed conditional probabilities for sample 4000 / 45000\n",
            "[t-SNE] Computed conditional probabilities for sample 5000 / 45000\n",
            "[t-SNE] Computed conditional probabilities for sample 6000 / 45000\n",
            "[t-SNE] Computed conditional probabilities for sample 7000 / 45000\n",
            "[t-SNE] Computed conditional probabilities for sample 8000 / 45000\n",
            "[t-SNE] Computed conditional probabilities for sample 9000 / 45000\n",
            "[t-SNE] Computed conditional probabilities for sample 10000 / 45000\n",
            "[t-SNE] Computed conditional probabilities for sample 11000 / 45000\n",
            "[t-SNE] Computed conditional probabilities for sample 12000 / 45000\n",
            "[t-SNE] Computed conditional probabilities for sample 13000 / 45000\n",
            "[t-SNE] Computed conditional probabilities for sample 14000 / 45000\n",
            "[t-SNE] Computed conditional probabilities for sample 15000 / 45000\n",
            "[t-SNE] Computed conditional probabilities for sample 16000 / 45000\n",
            "[t-SNE] Computed conditional probabilities for sample 17000 / 45000\n",
            "[t-SNE] Computed conditional probabilities for sample 18000 / 45000\n",
            "[t-SNE] Computed conditional probabilities for sample 19000 / 45000\n",
            "[t-SNE] Computed conditional probabilities for sample 20000 / 45000\n",
            "[t-SNE] Computed conditional probabilities for sample 21000 / 45000\n",
            "[t-SNE] Computed conditional probabilities for sample 22000 / 45000\n",
            "[t-SNE] Computed conditional probabilities for sample 23000 / 45000\n",
            "[t-SNE] Computed conditional probabilities for sample 24000 / 45000\n",
            "[t-SNE] Computed conditional probabilities for sample 25000 / 45000\n",
            "[t-SNE] Computed conditional probabilities for sample 26000 / 45000\n",
            "[t-SNE] Computed conditional probabilities for sample 27000 / 45000\n",
            "[t-SNE] Computed conditional probabilities for sample 28000 / 45000\n",
            "[t-SNE] Computed conditional probabilities for sample 29000 / 45000\n",
            "[t-SNE] Computed conditional probabilities for sample 30000 / 45000\n",
            "[t-SNE] Computed conditional probabilities for sample 31000 / 45000\n",
            "[t-SNE] Computed conditional probabilities for sample 32000 / 45000\n",
            "[t-SNE] Computed conditional probabilities for sample 33000 / 45000\n",
            "[t-SNE] Computed conditional probabilities for sample 34000 / 45000\n",
            "[t-SNE] Computed conditional probabilities for sample 35000 / 45000\n",
            "[t-SNE] Computed conditional probabilities for sample 36000 / 45000\n",
            "[t-SNE] Computed conditional probabilities for sample 37000 / 45000\n",
            "[t-SNE] Computed conditional probabilities for sample 38000 / 45000\n",
            "[t-SNE] Computed conditional probabilities for sample 39000 / 45000\n",
            "[t-SNE] Computed conditional probabilities for sample 40000 / 45000\n",
            "[t-SNE] Computed conditional probabilities for sample 41000 / 45000\n",
            "[t-SNE] Computed conditional probabilities for sample 42000 / 45000\n",
            "[t-SNE] Computed conditional probabilities for sample 43000 / 45000\n",
            "[t-SNE] Computed conditional probabilities for sample 44000 / 45000\n",
            "[t-SNE] Computed conditional probabilities for sample 45000 / 45000\n",
            "[t-SNE] Mean sigma: 0.569558\n",
            "[t-SNE] KL divergence after 250 iterations with early exaggeration: 85.166214\n",
            "[t-SNE] KL divergence after 1000 iterations: 2.619210\n"
          ]
        }
      ],
      "source": [
        "test_tsne =TSNE(verbose=1,random_state=42,perplexity=50).fit_transform(test_scaled_feat)\n",
        "train_tsne =TSNE(verbose=1,random_state=42,perplexity=50).fit_transform(train_scaled_feat)"
      ],
      "id": "iokPMRybKYVL"
    },
    {
      "cell_type": "code",
      "execution_count": null,
      "metadata": {
        "colab": {
          "base_uri": "https://localhost:8080/",
          "height": 499
        },
        "id": "74EqYWSnKbco",
        "outputId": "3bc3365e-48a5-446a-e8b0-110b0a8f403c"
      },
      "outputs": [
        {
          "data": {
            "image/png": "[encoded data removed]",
            "text/plain": [
              "<Figure size 576x576 with 1 Axes>"
            ]
          },
          "metadata": {
            "needs_background": "light"
          },
          "output_type": "display_data"
        }
      ],
      "source": [
        "# performing TSNE on test dataset\n",
        "tx = test_tsne[:, 0]\n",
        "ty = test_tsne[:, 1]\n",
        "colors_per_class=[0,127,255]\n",
        "fig = plt.figure(figsize=(8, 8))\n",
        "ax = fig.add_subplot(111)\n",
        "ax.set_title(\"Test Data T-SNE\")\n",
        "for label in [0,1,2]:\n",
        "    indices = [i for i, l in enumerate(testlabelsGlobal) if l == label]\n",
        "    current_tx = np.take(tx, indices)\n",
        "    current_ty = np.take(ty, indices)\n",
        "    colordict={0:'#ff0000',127:'#3cb371',255:'#ffa500'}\n",
        "    color = colordict[colors_per_class[label]]\n",
        "    ax.scatter(current_tx, current_ty, c=color, label=label,alpha=0.3)\n",
        "ax.legend(loc='best')\n",
        "plt.savefig('report_images/'+\"test_tsne\"+'_'+'.png')\n",
        "plt.show()"
      ],
      "id": "74EqYWSnKbco"
    },
    {
      "cell_type": "code",
      "execution_count": null,
      "metadata": {
        "colab": {
          "base_uri": "https://localhost:8080/",
          "height": 499
        },
        "id": "LyKtgkEpMbPz",
        "outputId": "969a2ee3-a50c-4759-9214-eaaeb57b1762"
      },
      "outputs": [
        {
          "data": {
            "image/png": "[encoded data removed]",
            "text/plain": [
              "<Figure size 576x576 with 1 Axes>"
            ]
          },
          "metadata": {
            "needs_background": "light"
          },
          "output_type": "display_data"
        }
      ],
      "source": [
        "# performing TSNE on test dataset\n",
        "tx = train_tsne[:, 0]\n",
        "ty = train_tsne[:, 1]\n",
        "colors_per_class=[0,127,255]\n",
        "fig = plt.figure(figsize=(8, 8))\n",
        "ax = fig.add_subplot(111)\n",
        "ax.set_title(\"Train Data T-SNE\")\n",
        "for label in [0,1,2]:\n",
        "    indices = [i for i, l in enumerate(trainlabelsGlobal) if l == label]\n",
        "    current_tx = np.take(tx, indices)\n",
        "    current_ty = np.take(ty, indices)\n",
        "    colordict={0:'#ff0000',127:'#3cb371',255:'#ffa500'}\n",
        "    color = colordict[colors_per_class[label]]\n",
        "    ax.scatter(current_tx, current_ty, c=color, label=label,alpha=0.3)\n",
        "ax.legend(loc='best')\n",
        "plt.savefig('report_images/'+\"train_tsne\"+'_'+'.png')\n",
        "plt.show()"
      ],
      "id": "LyKtgkEpMbPz"
    }
  ],
  "metadata": {
    "kernelspec": {
      "display_name": "Python 3",
      "language": "python",
      "name": "python3"
    },
    "language_info": {
      "codemirror_mode": {
        "name": "ipython",
        "version": 3
      },
      "file_extension": ".py",
      "mimetype": "text/x-python",
      "name": "python",
      "nbconvert_exporter": "python",
      "pygments_lexer": "ipython3",
      "version": "3.7.12"
    },
    "papermill": {
      "default_parameters": {},
      "duration": 11112.570682,
      "end_time": "2022-04-25T19:08:33.039607",
      "environment_variables": {},
      "exception": null,
      "input_path": "__notebook__.ipynb",
      "output_path": "__notebook__.ipynb",
      "parameters": {},
      "start_time": "2022-04-25T16:03:20.468925",
      "version": "2.3.4"
    },
    "colab": {
      "name": "2_FinalTraining_withTSNE.ipynb",
      "provenance": []
    }
  },
  "nbformat": 4,
  "nbformat_minor": 5
}