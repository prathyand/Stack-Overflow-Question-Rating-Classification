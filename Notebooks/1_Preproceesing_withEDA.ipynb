{
  "cells": [
    {
      "cell_type": "code",
      "execution_count": null,
      "id": "c3b76801",
      "metadata": {
        "execution": {
          "iopub.execute_input": "2022-04-25T17:32:26.481421Z",
          "iopub.status.busy": "2022-04-25T17:32:26.480860Z",
          "iopub.status.idle": "2022-04-25T17:32:47.470965Z",
          "shell.execute_reply": "2022-04-25T17:32:47.470122Z"
        },
        "papermill": {
          "duration": 21.032477,
          "end_time": "2022-04-25T17:32:47.473231",
          "exception": false,
          "start_time": "2022-04-25T17:32:26.440754",
          "status": "completed"
        },
        "tags": [],
        "id": "c3b76801",
        "outputId": "44692774-99d1-4bde-b665-43daadc7c12c"
      },
      "outputs": [
        {
          "name": "stdout",
          "output_type": "stream",
          "text": [
            "Collecting contractions\r\n",
            "  Downloading contractions-0.1.72-py2.py3-none-any.whl (8.3 kB)\r\n",
            "Collecting textsearch>=0.0.21\r\n",
            "  Downloading textsearch-0.0.21-py2.py3-none-any.whl (7.5 kB)\r\n",
            "Collecting pyahocorasick\r\n",
            "  Downloading pyahocorasick-1.4.4-cp37-cp37m-manylinux_2_17_x86_64.manylinux2014_x86_64.whl (106 kB)\r\n",
            "\u001b[2K     \u001b[90m━━━━━━━━━━━━━━━━━━━━━━━━━━━━━━━━━━━━━\u001b[0m \u001b[32m106.5/106.5 KB\u001b[0m \u001b[31m491.0 kB/s\u001b[0m eta \u001b[36m0:00:00\u001b[0m\r\n",
            "\u001b[?25hCollecting anyascii\r\n",
            "  Downloading anyascii-0.3.1-py3-none-any.whl (287 kB)\r\n",
            "\u001b[2K     \u001b[90m━━━━━━━━━━━━━━━━━━━━━━━━━━━━━━━━━━━━━━━\u001b[0m \u001b[32m287.5/287.5 KB\u001b[0m \u001b[31m1.9 MB/s\u001b[0m eta \u001b[36m0:00:00\u001b[0m\r\n",
            "\u001b[?25hInstalling collected packages: pyahocorasick, anyascii, textsearch, contractions\r\n",
            "Successfully installed anyascii-0.3.1 contractions-0.1.72 pyahocorasick-1.4.4 textsearch-0.0.21\r\n",
            "\u001b[33mWARNING: Running pip as the 'root' user can result in broken permissions and conflicting behaviour with the system package manager. It is recommended to use a virtual environment instead: https://pip.pypa.io/warnings/venv\u001b[0m\u001b[33m\r\n",
            "\u001b[0mCollecting html2text\r\n",
            "  Downloading html2text-2020.1.16-py3-none-any.whl (32 kB)\r\n",
            "Installing collected packages: html2text\r\n",
            "Successfully installed html2text-2020.1.16\r\n",
            "\u001b[33mWARNING: Running pip as the 'root' user can result in broken permissions and conflicting behaviour with the system package manager. It is recommended to use a virtual environment instead: https://pip.pypa.io/warnings/venv\u001b[0m\u001b[33m\r\n",
            "\u001b[0m"
          ]
        }
      ],
      "source": [
        "!pip install contractions\n",
        "!pip install html2text"
      ]
    },
    {
      "cell_type": "code",
      "execution_count": null,
      "id": "bb2f8a8b",
      "metadata": {
        "_cell_guid": "b1076dfc-b9ad-4769-8c92-a6c4dae69d19",
        "_uuid": "8f2839f25d086af736a60e9eeb907d3b93b6e0e5",
        "execution": {
          "iopub.execute_input": "2022-04-25T17:32:47.541614Z",
          "iopub.status.busy": "2022-04-25T17:32:47.541304Z",
          "iopub.status.idle": "2022-04-25T17:32:49.121977Z",
          "shell.execute_reply": "2022-04-25T17:32:49.121148Z"
        },
        "papermill": {
          "duration": 1.617679,
          "end_time": "2022-04-25T17:32:49.124066",
          "exception": false,
          "start_time": "2022-04-25T17:32:47.506387",
          "status": "completed"
        },
        "tags": [],
        "id": "bb2f8a8b",
        "outputId": "9902c8ed-60fc-4aa7-8674-71decd6f0773"
      },
      "outputs": [
        {
          "name": "stdout",
          "output_type": "stream",
          "text": [
            "/kaggle/input/60k-stack-overflow-questions-with-quality-rate/valid.csv\n",
            "/kaggle/input/60k-stack-overflow-questions-with-quality-rate/train.csv\n"
          ]
        }
      ],
      "source": [
        "# This Python 3 environment comes with many helpful analytics libraries installed\n",
        "# For example, here's several helpful packages to load\n",
        "\n",
        "import numpy as np # linear algebra\n",
        "import pandas as pd # data processing, CSV file I/O (e.g. pd.read_csv)\n",
        "import matplotlib.pyplot as plt\n",
        "import nltk   \n",
        "import contractions\n",
        "import re\n",
        "from nltk.corpus import stopwords\n",
        "from nltk.tokenize import word_tokenize\n",
        "# Input data files are available in the read-only \"../input/\" directory\n",
        "# For example, running this (by clicking run or pressing Shift+Enter) will list all files under the input directory\n",
        "import html2text\n",
        "import os\n",
        "for dirname, _, filenames in os.walk('/kaggle/input'):\n",
        "    for filename in filenames:\n",
        "        print(os.path.join(dirname, filename))\n",
        "\n",
        "# You can write up to 20GB to the current directory (/kaggle/working/) that gets preserved as output when you create a version using \"Save & Run All\" \n",
        "# You can also write temporary files to /kaggle/temp/, but they won't be saved outside of the current session"
      ]
    },
    {
      "cell_type": "code",
      "execution_count": null,
      "id": "9ddd7649",
      "metadata": {
        "execution": {
          "iopub.execute_input": "2022-04-25T17:32:49.190862Z",
          "iopub.status.busy": "2022-04-25T17:32:49.190080Z",
          "iopub.status.idle": "2022-04-25T17:32:49.982344Z",
          "shell.execute_reply": "2022-04-25T17:32:49.981342Z"
        },
        "papermill": {
          "duration": 0.828236,
          "end_time": "2022-04-25T17:32:49.984695",
          "exception": false,
          "start_time": "2022-04-25T17:32:49.156459",
          "status": "completed"
        },
        "tags": [],
        "id": "9ddd7649",
        "outputId": "0b7e391e-c4e5-43a5-deb7-7406bf136f14"
      },
      "outputs": [
        {
          "name": "stdout",
          "output_type": "stream",
          "text": [
            "/bin/bash: nvidia-smi: command not found\r\n"
          ]
        }
      ],
      "source": [
        "!nvidia-smi"
      ]
    },
    {
      "cell_type": "code",
      "execution_count": null,
      "id": "ec682fb3",
      "metadata": {
        "execution": {
          "iopub.execute_input": "2022-04-25T17:32:50.058489Z",
          "iopub.status.busy": "2022-04-25T17:32:50.057869Z",
          "iopub.status.idle": "2022-04-25T17:32:51.670208Z",
          "shell.execute_reply": "2022-04-25T17:32:51.669316Z"
        },
        "papermill": {
          "duration": 1.654632,
          "end_time": "2022-04-25T17:32:51.672461",
          "exception": false,
          "start_time": "2022-04-25T17:32:50.017829",
          "status": "completed"
        },
        "tags": [],
        "id": "ec682fb3"
      },
      "outputs": [],
      "source": [
        "inp_train = pd.read_csv(\"/kaggle/input/60k-stack-overflow-questions-with-quality-rate/train.csv\")\n",
        "inp_validation= pd.read_csv(\"/kaggle/input/60k-stack-overflow-questions-with-quality-rate/valid.csv\")"
      ]
    },
    {
      "cell_type": "code",
      "execution_count": null,
      "id": "4844ee3a",
      "metadata": {
        "execution": {
          "iopub.execute_input": "2022-04-25T17:32:51.741869Z",
          "iopub.status.busy": "2022-04-25T17:32:51.741575Z",
          "iopub.status.idle": "2022-04-25T17:32:51.913032Z",
          "shell.execute_reply": "2022-04-25T17:32:51.912318Z"
        },
        "papermill": {
          "duration": 0.208238,
          "end_time": "2022-04-25T17:32:51.915846",
          "exception": false,
          "start_time": "2022-04-25T17:32:51.707608",
          "status": "completed"
        },
        "tags": [],
        "id": "4844ee3a",
        "outputId": "13bde67f-cf80-4ad1-cb6a-4e6a224e1bd2"
      },
      "outputs": [
        {
          "data": {
            "text/html": [
              "<div>\n",
              "<style scoped>\n",
              "    .dataframe tbody tr th:only-of-type {\n",
              "        vertical-align: middle;\n",
              "    }\n",
              "\n",
              "    .dataframe tbody tr th {\n",
              "        vertical-align: top;\n",
              "    }\n",
              "\n",
              "    .dataframe thead th {\n",
              "        text-align: right;\n",
              "    }\n",
              "</style>\n",
              "<table border=\"1\" class=\"dataframe\">\n",
              "  <thead>\n",
              "    <tr style=\"text-align: right;\">\n",
              "      <th></th>\n",
              "      <th>Id</th>\n",
              "      <th>Title</th>\n",
              "      <th>Body</th>\n",
              "      <th>Tags</th>\n",
              "      <th>CreationDate</th>\n",
              "      <th>Y</th>\n",
              "    </tr>\n",
              "  </thead>\n",
              "  <tbody>\n",
              "    <tr>\n",
              "      <th>count</th>\n",
              "      <td>4.500000e+04</td>\n",
              "      <td>45000</td>\n",
              "      <td>45000</td>\n",
              "      <td>45000</td>\n",
              "      <td>45000</td>\n",
              "      <td>45000</td>\n",
              "    </tr>\n",
              "    <tr>\n",
              "      <th>unique</th>\n",
              "      <td>NaN</td>\n",
              "      <td>44996</td>\n",
              "      <td>45000</td>\n",
              "      <td>25676</td>\n",
              "      <td>44990</td>\n",
              "      <td>3</td>\n",
              "    </tr>\n",
              "    <tr>\n",
              "      <th>top</th>\n",
              "      <td>NaN</td>\n",
              "      <td>Regular expression</td>\n",
              "      <td>&lt;p&gt;I'm already familiar with repeating tasks e...</td>\n",
              "      <td>&lt;python&gt;</td>\n",
              "      <td>2016-04-27 09:59:45</td>\n",
              "      <td>LQ_CLOSE</td>\n",
              "    </tr>\n",
              "    <tr>\n",
              "      <th>freq</th>\n",
              "      <td>NaN</td>\n",
              "      <td>3</td>\n",
              "      <td>1</td>\n",
              "      <td>798</td>\n",
              "      <td>2</td>\n",
              "      <td>15000</td>\n",
              "    </tr>\n",
              "    <tr>\n",
              "      <th>mean</th>\n",
              "      <td>4.575616e+07</td>\n",
              "      <td>NaN</td>\n",
              "      <td>NaN</td>\n",
              "      <td>NaN</td>\n",
              "      <td>NaN</td>\n",
              "      <td>NaN</td>\n",
              "    </tr>\n",
              "    <tr>\n",
              "      <th>std</th>\n",
              "      <td>7.120035e+06</td>\n",
              "      <td>NaN</td>\n",
              "      <td>NaN</td>\n",
              "      <td>NaN</td>\n",
              "      <td>NaN</td>\n",
              "      <td>NaN</td>\n",
              "    </tr>\n",
              "    <tr>\n",
              "      <th>min</th>\n",
              "      <td>3.455266e+07</td>\n",
              "      <td>NaN</td>\n",
              "      <td>NaN</td>\n",
              "      <td>NaN</td>\n",
              "      <td>NaN</td>\n",
              "      <td>NaN</td>\n",
              "    </tr>\n",
              "    <tr>\n",
              "      <th>25%</th>\n",
              "      <td>3.973593e+07</td>\n",
              "      <td>NaN</td>\n",
              "      <td>NaN</td>\n",
              "      <td>NaN</td>\n",
              "      <td>NaN</td>\n",
              "      <td>NaN</td>\n",
              "    </tr>\n",
              "    <tr>\n",
              "      <th>50%</th>\n",
              "      <td>4.503563e+07</td>\n",
              "      <td>NaN</td>\n",
              "      <td>NaN</td>\n",
              "      <td>NaN</td>\n",
              "      <td>NaN</td>\n",
              "      <td>NaN</td>\n",
              "    </tr>\n",
              "    <tr>\n",
              "      <th>75%</th>\n",
              "      <td>5.125584e+07</td>\n",
              "      <td>NaN</td>\n",
              "      <td>NaN</td>\n",
              "      <td>NaN</td>\n",
              "      <td>NaN</td>\n",
              "      <td>NaN</td>\n",
              "    </tr>\n",
              "    <tr>\n",
              "      <th>max</th>\n",
              "      <td>6.046802e+07</td>\n",
              "      <td>NaN</td>\n",
              "      <td>NaN</td>\n",
              "      <td>NaN</td>\n",
              "      <td>NaN</td>\n",
              "      <td>NaN</td>\n",
              "    </tr>\n",
              "  </tbody>\n",
              "</table>\n",
              "</div>"
            ],
            "text/plain": [
              "                  Id               Title  \\\n",
              "count   4.500000e+04               45000   \n",
              "unique           NaN               44996   \n",
              "top              NaN  Regular expression   \n",
              "freq             NaN                   3   \n",
              "mean    4.575616e+07                 NaN   \n",
              "std     7.120035e+06                 NaN   \n",
              "min     3.455266e+07                 NaN   \n",
              "25%     3.973593e+07                 NaN   \n",
              "50%     4.503563e+07                 NaN   \n",
              "75%     5.125584e+07                 NaN   \n",
              "max     6.046802e+07                 NaN   \n",
              "\n",
              "                                                     Body      Tags  \\\n",
              "count                                               45000     45000   \n",
              "unique                                              45000     25676   \n",
              "top     <p>I'm already familiar with repeating tasks e...  <python>   \n",
              "freq                                                    1       798   \n",
              "mean                                                  NaN       NaN   \n",
              "std                                                   NaN       NaN   \n",
              "min                                                   NaN       NaN   \n",
              "25%                                                   NaN       NaN   \n",
              "50%                                                   NaN       NaN   \n",
              "75%                                                   NaN       NaN   \n",
              "max                                                   NaN       NaN   \n",
              "\n",
              "               CreationDate         Y  \n",
              "count                 45000     45000  \n",
              "unique                44990         3  \n",
              "top     2016-04-27 09:59:45  LQ_CLOSE  \n",
              "freq                      2     15000  \n",
              "mean                    NaN       NaN  \n",
              "std                     NaN       NaN  \n",
              "min                     NaN       NaN  \n",
              "25%                     NaN       NaN  \n",
              "50%                     NaN       NaN  \n",
              "75%                     NaN       NaN  \n",
              "max                     NaN       NaN  "
            ]
          },
          "execution_count": 5,
          "metadata": {},
          "output_type": "execute_result"
        }
      ],
      "source": [
        "inp_train.describe(include='all')"
      ]
    },
    {
      "cell_type": "code",
      "execution_count": null,
      "id": "e98db3ec",
      "metadata": {
        "execution": {
          "iopub.execute_input": "2022-04-25T17:32:51.989129Z",
          "iopub.status.busy": "2022-04-25T17:32:51.988862Z",
          "iopub.status.idle": "2022-04-25T17:32:52.000078Z",
          "shell.execute_reply": "2022-04-25T17:32:51.999277Z"
        },
        "papermill": {
          "duration": 0.049787,
          "end_time": "2022-04-25T17:32:52.001994",
          "exception": false,
          "start_time": "2022-04-25T17:32:51.952207",
          "status": "completed"
        },
        "tags": [],
        "id": "e98db3ec",
        "outputId": "1b658564-f119-40eb-8da7-47ceb0eed14a"
      },
      "outputs": [
        {
          "data": {
            "text/html": [
              "<div>\n",
              "<style scoped>\n",
              "    .dataframe tbody tr th:only-of-type {\n",
              "        vertical-align: middle;\n",
              "    }\n",
              "\n",
              "    .dataframe tbody tr th {\n",
              "        vertical-align: top;\n",
              "    }\n",
              "\n",
              "    .dataframe thead th {\n",
              "        text-align: right;\n",
              "    }\n",
              "</style>\n",
              "<table border=\"1\" class=\"dataframe\">\n",
              "  <thead>\n",
              "    <tr style=\"text-align: right;\">\n",
              "      <th></th>\n",
              "      <th>Id</th>\n",
              "      <th>Title</th>\n",
              "      <th>Body</th>\n",
              "      <th>Tags</th>\n",
              "      <th>CreationDate</th>\n",
              "      <th>Y</th>\n",
              "    </tr>\n",
              "  </thead>\n",
              "  <tbody>\n",
              "    <tr>\n",
              "      <th>0</th>\n",
              "      <td>34552656</td>\n",
              "      <td>Java: Repeat Task Every Random Seconds</td>\n",
              "      <td>&lt;p&gt;I'm already familiar with repeating tasks e...</td>\n",
              "      <td>&lt;java&gt;&lt;repeat&gt;</td>\n",
              "      <td>2016-01-01 00:21:59</td>\n",
              "      <td>LQ_CLOSE</td>\n",
              "    </tr>\n",
              "    <tr>\n",
              "      <th>1</th>\n",
              "      <td>34553034</td>\n",
              "      <td>Why are Java Optionals immutable?</td>\n",
              "      <td>&lt;p&gt;I'd like to understand why Java 8 Optionals...</td>\n",
              "      <td>&lt;java&gt;&lt;optional&gt;</td>\n",
              "      <td>2016-01-01 02:03:20</td>\n",
              "      <td>HQ</td>\n",
              "    </tr>\n",
              "    <tr>\n",
              "      <th>2</th>\n",
              "      <td>34553174</td>\n",
              "      <td>Text Overlay Image with Darkened Opacity React...</td>\n",
              "      <td>&lt;p&gt;I am attempting to overlay a title over an ...</td>\n",
              "      <td>&lt;javascript&gt;&lt;image&gt;&lt;overlay&gt;&lt;react-native&gt;&lt;opa...</td>\n",
              "      <td>2016-01-01 02:48:24</td>\n",
              "      <td>HQ</td>\n",
              "    </tr>\n",
              "    <tr>\n",
              "      <th>3</th>\n",
              "      <td>34553318</td>\n",
              "      <td>Why ternary operator in swift is so picky?</td>\n",
              "      <td>&lt;p&gt;The question is very simple, but I just cou...</td>\n",
              "      <td>&lt;swift&gt;&lt;operators&gt;&lt;whitespace&gt;&lt;ternary-operato...</td>\n",
              "      <td>2016-01-01 03:30:17</td>\n",
              "      <td>HQ</td>\n",
              "    </tr>\n",
              "    <tr>\n",
              "      <th>4</th>\n",
              "      <td>34553755</td>\n",
              "      <td>hide/show fab with scale animation</td>\n",
              "      <td>&lt;p&gt;I'm using custom floatingactionmenu. I need...</td>\n",
              "      <td>&lt;android&gt;&lt;material-design&gt;&lt;floating-action-but...</td>\n",
              "      <td>2016-01-01 05:21:48</td>\n",
              "      <td>HQ</td>\n",
              "    </tr>\n",
              "  </tbody>\n",
              "</table>\n",
              "</div>"
            ],
            "text/plain": [
              "         Id                                              Title  \\\n",
              "0  34552656             Java: Repeat Task Every Random Seconds   \n",
              "1  34553034                  Why are Java Optionals immutable?   \n",
              "2  34553174  Text Overlay Image with Darkened Opacity React...   \n",
              "3  34553318         Why ternary operator in swift is so picky?   \n",
              "4  34553755                 hide/show fab with scale animation   \n",
              "\n",
              "                                                Body  \\\n",
              "0  <p>I'm already familiar with repeating tasks e...   \n",
              "1  <p>I'd like to understand why Java 8 Optionals...   \n",
              "2  <p>I am attempting to overlay a title over an ...   \n",
              "3  <p>The question is very simple, but I just cou...   \n",
              "4  <p>I'm using custom floatingactionmenu. I need...   \n",
              "\n",
              "                                                Tags         CreationDate  \\\n",
              "0                                     <java><repeat>  2016-01-01 00:21:59   \n",
              "1                                   <java><optional>  2016-01-01 02:03:20   \n",
              "2  <javascript><image><overlay><react-native><opa...  2016-01-01 02:48:24   \n",
              "3  <swift><operators><whitespace><ternary-operato...  2016-01-01 03:30:17   \n",
              "4  <android><material-design><floating-action-but...  2016-01-01 05:21:48   \n",
              "\n",
              "          Y  \n",
              "0  LQ_CLOSE  \n",
              "1        HQ  \n",
              "2        HQ  \n",
              "3        HQ  \n",
              "4        HQ  "
            ]
          },
          "execution_count": 6,
          "metadata": {},
          "output_type": "execute_result"
        }
      ],
      "source": [
        "inp_train.head()"
      ]
    },
    {
      "cell_type": "code",
      "execution_count": null,
      "id": "d0105a86",
      "metadata": {
        "execution": {
          "iopub.execute_input": "2022-04-25T17:32:52.071829Z",
          "iopub.status.busy": "2022-04-25T17:32:52.071537Z",
          "iopub.status.idle": "2022-04-25T17:32:52.314852Z",
          "shell.execute_reply": "2022-04-25T17:32:52.314022Z"
        },
        "papermill": {
          "duration": 0.279805,
          "end_time": "2022-04-25T17:32:52.316844",
          "exception": false,
          "start_time": "2022-04-25T17:32:52.037039",
          "status": "completed"
        },
        "tags": [],
        "id": "d0105a86",
        "outputId": "c3b7769b-e11c-4fed-e8fc-879a4cb1ee0a"
      },
      "outputs": [
        {
          "data": {
            "text/plain": [
              "<AxesSubplot:>"
            ]
          },
          "execution_count": 7,
          "metadata": {},
          "output_type": "execute_result"
        },
        {
          "data": {
            "image/png": "[encoded data removed]",
            "text/plain": [
              "<Figure size 432x288 with 1 Axes>"
            ]
          },
          "metadata": {
            "needs_background": "light"
          },
          "output_type": "display_data"
        }
      ],
      "source": [
        "inp_train['Y'].hist()"
      ]
    },
    {
      "cell_type": "code",
      "execution_count": null,
      "id": "92135468",
      "metadata": {
        "execution": {
          "iopub.execute_input": "2022-04-25T17:32:52.387684Z",
          "iopub.status.busy": "2022-04-25T17:32:52.386757Z",
          "iopub.status.idle": "2022-04-25T17:32:52.396166Z",
          "shell.execute_reply": "2022-04-25T17:32:52.395442Z"
        },
        "papermill": {
          "duration": 0.046506,
          "end_time": "2022-04-25T17:32:52.397924",
          "exception": false,
          "start_time": "2022-04-25T17:32:52.351418",
          "status": "completed"
        },
        "tags": [],
        "id": "92135468",
        "outputId": "58a4cca3-d999-4240-e15b-de7a12e92b75"
      },
      "outputs": [
        {
          "data": {
            "text/plain": [
              "LQ_CLOSE    15000\n",
              "HQ          15000\n",
              "LQ_EDIT     15000\n",
              "Name: Y, dtype: int64"
            ]
          },
          "execution_count": 8,
          "metadata": {},
          "output_type": "execute_result"
        }
      ],
      "source": [
        "inp_train['Y'].value_counts()"
      ]
    },
    {
      "cell_type": "markdown",
      "id": "961f4604",
      "metadata": {
        "papermill": {
          "duration": 0.034665,
          "end_time": "2022-04-25T17:32:52.467412",
          "exception": false,
          "start_time": "2022-04-25T17:32:52.432747",
          "status": "completed"
        },
        "tags": [],
        "id": "961f4604"
      },
      "source": [
        "## The given data is balanced based on the output. The count of all the classes in the output is equal which is 15000."
      ]
    },
    {
      "cell_type": "code",
      "execution_count": null,
      "id": "c08cb961",
      "metadata": {
        "execution": {
          "iopub.execute_input": "2022-04-25T17:32:52.539249Z",
          "iopub.status.busy": "2022-04-25T17:32:52.538355Z",
          "iopub.status.idle": "2022-04-25T17:32:52.545511Z",
          "shell.execute_reply": "2022-04-25T17:32:52.544879Z"
        },
        "papermill": {
          "duration": 0.045538,
          "end_time": "2022-04-25T17:32:52.547655",
          "exception": false,
          "start_time": "2022-04-25T17:32:52.502117",
          "status": "completed"
        },
        "tags": [],
        "id": "c08cb961",
        "outputId": "be84cbde-2de4-455b-b38b-75f1268d86a4"
      },
      "outputs": [
        {
          "data": {
            "text/plain": [
              "'<p>I\\'m already familiar with repeating tasks every n seconds by using Java.util.Timer and Java.util.TimerTask. But lets say I want to print \"Hello World\" to the console every random seconds from 1-5. Unfortunately I\\'m in a bit of a rush and don\\'t have any code to show so far. Any help would be apriciated.  </p>\\n'"
            ]
          },
          "execution_count": 9,
          "metadata": {},
          "output_type": "execute_result"
        }
      ],
      "source": [
        "inp_train['Body'][0]"
      ]
    },
    {
      "cell_type": "code",
      "source": [
        "l={}\n",
        "def check_tags(l,x):\n",
        "  for i in x:\n",
        "    if i in list(l.keys()):\n",
        "      l[i] +=1\n",
        "    else:\n",
        "      l[i] = 1\n",
        "\n",
        "inp_train['Tags'].apply(lambda x:x.split('>')).apply(lambda x: check_tags(l,x))\n",
        "sorted_l = sorted(l.items(), key=lambda x: x[1], reverse=True)"
      ],
      "metadata": {
        "id": "88oyA9pbtFJE"
      },
      "execution_count": null,
      "outputs": [],
      "id": "88oyA9pbtFJE"
    },
    {
      "cell_type": "markdown",
      "source": [
        "No Duplicates"
      ],
      "metadata": {
        "id": "HHPaOwdk03n1"
      },
      "id": "HHPaOwdk03n1"
    },
    {
      "cell_type": "code",
      "source": [
        "print(len(list(l.keys())))\n",
        "print(len(set(list(l.keys()))))"
      ],
      "metadata": {
        "colab": {
          "base_uri": "https://localhost:8080/"
        },
        "id": "MjxBodax008o",
        "outputId": "6a2b7537-1797-410e-ff74-0becaddca6d6"
      },
      "execution_count": null,
      "outputs": [
        {
          "output_type": "stream",
          "name": "stdout",
          "text": [
            "9337\n",
            "9337\n"
          ]
        }
      ],
      "id": "MjxBodax008o"
    },
    {
      "cell_type": "code",
      "source": [
        "top_sl = sorted_l[:40]\n",
        "tags = np.asarray(top_sl)[1:][:,0]\n",
        "counts = np.asarray(top_sl)[1:][:,1]\n",
        "counts_rev = counts[::-1]\n",
        "tags_rev = tags[::-1]\n",
        "print(tags_rev)\n",
        "print(counts_rev)"
      ],
      "metadata": {
        "colab": {
          "base_uri": "https://localhost:8080/"
        },
        "id": "umrdMshB0_UZ",
        "outputId": "329d064c-8767-47ba-da36-6815bb89c754"
      },
      "execution_count": null,
      "outputs": [
        {
          "output_type": "stream",
          "name": "stdout",
          "text": [
            "['<asp.net' '<xcode' '<laravel' '<vba' '<ruby' '<react-native'\n",
            " '<android-studio' '<pandas' '<list' '<.net' '<docker' '<excel' '<linux'\n",
            " '<typescript' '<json' '<string' '<sql-server' '<node.js' '<regex' '<r'\n",
            " '<reactjs' '<python-3.x' '<angular' '<swift' '<mysql' '<sql' '<ios'\n",
            " '<arrays' '<c' '<jquery' '<css' '<c++' '<html' '<php' '<c#' '<android'\n",
            " '<java' '<python' '<javascript']\n",
            "['351' '354' '357' '372' '376' '383' '391' '418' '424' '433' '467' '473'\n",
            " '481' '647' '731' '733' '792' '793' '833' '862' '873' '991' '1096' '1156'\n",
            " '1166' '1243' '1339' '1367' '1383' '1410' '1594' '2263' '2562' '3125'\n",
            " '3137' '3573' '4677' '5041' '5385']\n"
          ]
        }
      ],
      "id": "umrdMshB0_UZ"
    },
    {
      "cell_type": "markdown",
      "source": [
        "Bar plot for top 40 tags\n"
      ],
      "metadata": {
        "id": "TO2v72vw1VgI"
      },
      "id": "TO2v72vw1VgI"
    },
    {
      "cell_type": "code",
      "source": [
        "plt.xticks(rotation=90)\n",
        "plt.bar(tags_rev, counts_rev)"
      ],
      "metadata": {
        "colab": {
          "base_uri": "https://localhost:8080/",
          "height": 353
        },
        "id": "qsw-cNoq0_Yv",
        "outputId": "cce8bacf-10db-4c4f-aab5-2e2c1a4431e4"
      },
      "execution_count": null,
      "outputs": [
        {
          "output_type": "execute_result",
          "data": {
            "text/plain": [
              "<BarContainer object of 39 artists>"
            ]
          },
          "metadata": {},
          "execution_count": 39
        },
        {
          "output_type": "display_data",
          "data": {
            "text/plain": [
              "<Figure size 432x288 with 1 Axes>"
            ],
            "image/png": "[encoded data removed]"
          },
          "metadata": {
            "needs_background": "light"
          }
        }
      ],
      "id": "qsw-cNoq0_Yv"
    },
    {
      "cell_type": "code",
      "source": [
        "inp_train['Y'].unique()"
      ],
      "metadata": {
        "colab": {
          "base_uri": "https://localhost:8080/"
        },
        "id": "bVLfwh7l0_cU",
        "outputId": "7b6d9451-57f2-4ea2-bb46-4a18f03d8965"
      },
      "execution_count": null,
      "outputs": [
        {
          "output_type": "execute_result",
          "data": {
            "text/plain": [
              "array(['LQ_CLOSE', 'HQ', 'LQ_EDIT'], dtype=object)"
            ]
          },
          "metadata": {},
          "execution_count": 102
        }
      ],
      "id": "bVLfwh7l0_cU"
    },
    {
      "cell_type": "code",
      "source": [
        "inp_train[inp_train['Y']=='HQ']['Tags'].apply(lambda x:x.split('>')).apply(lambda x: check_tags(l,x))\n",
        "sorted_l = sorted(l.items(), key=lambda x: x[1], reverse=True)\n",
        "\n",
        "top_sl = sorted_l[:40]\n",
        "tags = np.asarray(top_sl)[1:][:,0]\n",
        "counts = np.asarray(top_sl)[1:][:,1]\n",
        "counts_rev = counts[::-1]\n",
        "tags_rev = tags[::-1]"
      ],
      "metadata": {
        "id": "bBbZJMlD0_fl"
      },
      "execution_count": null,
      "outputs": [],
      "id": "bBbZJMlD0_fl"
    },
    {
      "cell_type": "code",
      "source": [
        "plt.xticks(rotation=90)\n",
        "plt.bar(tags_rev, counts_rev)"
      ],
      "metadata": {
        "colab": {
          "base_uri": "https://localhost:8080/",
          "height": 389
        },
        "id": "ZwGixowU1196",
        "outputId": "b180e251-2667-4aa9-8fe6-286b2afa3948"
      },
      "execution_count": null,
      "outputs": [
        {
          "output_type": "execute_result",
          "data": {
            "text/plain": [
              "<BarContainer object of 39 artists>"
            ]
          },
          "metadata": {},
          "execution_count": 41
        },
        {
          "output_type": "display_data",
          "data": {
            "text/plain": [
              "<Figure size 432x288 with 1 Axes>"
            ],
            "image/png": "[encoded data removed]"
          },
          "metadata": {
            "needs_background": "light"
          }
        }
      ],
      "id": "ZwGixowU1196"
    },
    {
      "cell_type": "code",
      "source": [
        "inp_train[inp_train['Y']=='LQ_EDIT']['Tags'].apply(lambda x:x.split('>')).apply(lambda x: check_tags(l,x))\n",
        "sorted_l = sorted(l.items(), key=lambda x: x[1], reverse=True)\n",
        "\n",
        "top_sl = sorted_l[:40]\n",
        "tags = np.asarray(top_sl)[1:][:,0]\n",
        "counts = np.asarray(top_sl)[1:][:,1]\n",
        "counts_rev = counts[::-1]\n",
        "tags_rev = tags[::-1]"
      ],
      "metadata": {
        "id": "xWSDv0xu2AXD"
      },
      "execution_count": null,
      "outputs": [],
      "id": "xWSDv0xu2AXD"
    },
    {
      "cell_type": "code",
      "source": [
        "plt.xticks(rotation=90)\n",
        "plt.bar(tags_rev, counts_rev)"
      ],
      "metadata": {
        "colab": {
          "base_uri": "https://localhost:8080/",
          "height": 353
        },
        "id": "7N1aMAF12AdQ",
        "outputId": "e412618a-684c-4c11-ea5c-d102005becaa"
      },
      "execution_count": null,
      "outputs": [
        {
          "output_type": "execute_result",
          "data": {
            "text/plain": [
              "<BarContainer object of 39 artists>"
            ]
          },
          "metadata": {},
          "execution_count": 43
        },
        {
          "output_type": "display_data",
          "data": {
            "text/plain": [
              "<Figure size 432x288 with 1 Axes>"
            ],
            "image/png": "[encoded data removed]"
          },
          "metadata": {
            "needs_background": "light"
          }
        }
      ],
      "id": "7N1aMAF12AdQ"
    },
    {
      "cell_type": "code",
      "source": [
        "inp_train[inp_train['Y']=='LQ_CLOSE']['Tags'].apply(lambda x:x.split('>')).apply(lambda x: check_tags(l,x))\n",
        "sorted_l = sorted(l.items(), key=lambda x: x[1], reverse=True)\n",
        "\n",
        "top_sl = sorted_l[:40]\n",
        "tags = np.asarray(top_sl)[1:][:,0]\n",
        "counts = np.asarray(top_sl)[1:][:,1]\n",
        "counts_rev = counts[::-1]\n",
        "tags_rev = tags[::-1]"
      ],
      "metadata": {
        "id": "vMakrHz72mxz"
      },
      "execution_count": null,
      "outputs": [],
      "id": "vMakrHz72mxz"
    },
    {
      "cell_type": "code",
      "source": [
        "plt.xticks(rotation=90)\n",
        "plt.bar(tags_rev, counts_rev)"
      ],
      "metadata": {
        "colab": {
          "base_uri": "https://localhost:8080/",
          "height": 353
        },
        "id": "LKFCfyK12o7k",
        "outputId": "5ede3e5a-043b-4159-bdd4-f1e329df1bd7"
      },
      "execution_count": null,
      "outputs": [
        {
          "output_type": "execute_result",
          "data": {
            "text/plain": [
              "<BarContainer object of 39 artists>"
            ]
          },
          "metadata": {},
          "execution_count": 48
        },
        {
          "output_type": "display_data",
          "data": {
            "text/plain": [
              "<Figure size 432x288 with 1 Axes>"
            ],
            "image/png": "[encoded data removed]"
          },
          "metadata": {
            "needs_background": "light"
          }
        }
      ],
      "id": "LKFCfyK12o7k"
    },
    {
      "cell_type": "markdown",
      "id": "a57ddc89",
      "metadata": {
        "papermill": {
          "duration": 0.034503,
          "end_time": "2022-04-25T17:32:52.617112",
          "exception": false,
          "start_time": "2022-04-25T17:32:52.582609",
          "status": "completed"
        },
        "tags": [],
        "id": "a57ddc89"
      },
      "source": [
        "## Testing the html2text package on the body attribute of the data"
      ]
    },
    {
      "cell_type": "code",
      "execution_count": null,
      "id": "31c6536f",
      "metadata": {
        "execution": {
          "iopub.execute_input": "2022-04-25T17:32:52.688416Z",
          "iopub.status.busy": "2022-04-25T17:32:52.688138Z",
          "iopub.status.idle": "2022-04-25T17:32:52.693861Z",
          "shell.execute_reply": "2022-04-25T17:32:52.693075Z"
        },
        "papermill": {
          "duration": 0.043427,
          "end_time": "2022-04-25T17:32:52.695703",
          "exception": false,
          "start_time": "2022-04-25T17:32:52.652276",
          "status": "completed"
        },
        "tags": [],
        "id": "31c6536f",
        "outputId": "faab493d-4813-48bb-9e64-1a66e0fd60aa"
      },
      "outputs": [
        {
          "name": "stdout",
          "output_type": "stream",
          "text": [
            "I'm already familiar with repeating tasks every n seconds by using\n",
            "Java.util.Timer and Java.util.TimerTask. But lets say I want to print \"Hello\n",
            "World\" to the console every random seconds from 1-5. Unfortunately I'm in a\n",
            "bit of a rush and don't have any code to show so far. Any help would be\n",
            "apriciated.\n",
            "\n",
            "\n"
          ]
        }
      ],
      "source": [
        "import html2text\n",
        "print(html2text.html2text(inp_train['Body'][0]))"
      ]
    },
    {
      "cell_type": "code",
      "execution_count": null,
      "id": "b33eaa9a",
      "metadata": {
        "execution": {
          "iopub.execute_input": "2022-04-25T17:32:52.768440Z",
          "iopub.status.busy": "2022-04-25T17:32:52.768017Z",
          "iopub.status.idle": "2022-04-25T17:33:20.045686Z",
          "shell.execute_reply": "2022-04-25T17:33:20.044842Z"
        },
        "papermill": {
          "duration": 27.316553,
          "end_time": "2022-04-25T17:33:20.047982",
          "exception": false,
          "start_time": "2022-04-25T17:32:52.731429",
          "status": "completed"
        },
        "tags": [],
        "id": "b33eaa9a"
      },
      "outputs": [],
      "source": [
        "inp_train_aug=inp_train\n",
        "inp_train_aug['BodyText']=inp_train_aug.apply(lambda row: html2text.html2text(row.Body), axis = 1)\n",
        "inp_train_aug['BodyText']=inp_train_aug.apply(lambda row: row.BodyText.replace(\"\\n\", \" \"), axis = 1)"
      ]
    },
    {
      "cell_type": "markdown",
      "id": "91cddfe4",
      "metadata": {
        "papermill": {
          "duration": 0.035116,
          "end_time": "2022-04-25T17:33:20.120198",
          "exception": false,
          "start_time": "2022-04-25T17:33:20.085082",
          "status": "completed"
        },
        "tags": [],
        "id": "91cddfe4"
      },
      "source": [
        "## Creating a new attribute 'BodyText' with the inp_train_aug dataframe"
      ]
    },
    {
      "cell_type": "code",
      "execution_count": null,
      "id": "fb1da950",
      "metadata": {
        "execution": {
          "iopub.execute_input": "2022-04-25T17:33:20.192177Z",
          "iopub.status.busy": "2022-04-25T17:33:20.191900Z",
          "iopub.status.idle": "2022-04-25T17:33:20.209334Z",
          "shell.execute_reply": "2022-04-25T17:33:20.208529Z"
        },
        "papermill": {
          "duration": 0.055705,
          "end_time": "2022-04-25T17:33:20.211232",
          "exception": false,
          "start_time": "2022-04-25T17:33:20.155527",
          "status": "completed"
        },
        "tags": [],
        "id": "fb1da950",
        "outputId": "4e172b78-60fb-4a7d-c1ea-25ef5d1b3713"
      },
      "outputs": [
        {
          "data": {
            "text/html": [
              "<div>\n",
              "<style scoped>\n",
              "    .dataframe tbody tr th:only-of-type {\n",
              "        vertical-align: middle;\n",
              "    }\n",
              "\n",
              "    .dataframe tbody tr th {\n",
              "        vertical-align: top;\n",
              "    }\n",
              "\n",
              "    .dataframe thead th {\n",
              "        text-align: right;\n",
              "    }\n",
              "</style>\n",
              "<table border=\"1\" class=\"dataframe\">\n",
              "  <thead>\n",
              "    <tr style=\"text-align: right;\">\n",
              "      <th></th>\n",
              "      <th>Id</th>\n",
              "      <th>Title</th>\n",
              "      <th>Body</th>\n",
              "      <th>Tags</th>\n",
              "      <th>CreationDate</th>\n",
              "      <th>Y</th>\n",
              "      <th>BodyText</th>\n",
              "    </tr>\n",
              "  </thead>\n",
              "  <tbody>\n",
              "    <tr>\n",
              "      <th>0</th>\n",
              "      <td>34552656</td>\n",
              "      <td>Java: Repeat Task Every Random Seconds</td>\n",
              "      <td>&lt;p&gt;I'm already familiar with repeating tasks e...</td>\n",
              "      <td>&lt;java&gt;&lt;repeat&gt;</td>\n",
              "      <td>2016-01-01 00:21:59</td>\n",
              "      <td>LQ_CLOSE</td>\n",
              "      <td>I'm already familiar with repeating tasks ever...</td>\n",
              "    </tr>\n",
              "    <tr>\n",
              "      <th>1</th>\n",
              "      <td>34553034</td>\n",
              "      <td>Why are Java Optionals immutable?</td>\n",
              "      <td>&lt;p&gt;I'd like to understand why Java 8 Optionals...</td>\n",
              "      <td>&lt;java&gt;&lt;optional&gt;</td>\n",
              "      <td>2016-01-01 02:03:20</td>\n",
              "      <td>HQ</td>\n",
              "      <td>I'd like to understand why Java 8 Optionals we...</td>\n",
              "    </tr>\n",
              "    <tr>\n",
              "      <th>2</th>\n",
              "      <td>34553174</td>\n",
              "      <td>Text Overlay Image with Darkened Opacity React...</td>\n",
              "      <td>&lt;p&gt;I am attempting to overlay a title over an ...</td>\n",
              "      <td>&lt;javascript&gt;&lt;image&gt;&lt;overlay&gt;&lt;react-native&gt;&lt;opa...</td>\n",
              "      <td>2016-01-01 02:48:24</td>\n",
              "      <td>HQ</td>\n",
              "      <td>I am attempting to overlay a title over an ima...</td>\n",
              "    </tr>\n",
              "    <tr>\n",
              "      <th>3</th>\n",
              "      <td>34553318</td>\n",
              "      <td>Why ternary operator in swift is so picky?</td>\n",
              "      <td>&lt;p&gt;The question is very simple, but I just cou...</td>\n",
              "      <td>&lt;swift&gt;&lt;operators&gt;&lt;whitespace&gt;&lt;ternary-operato...</td>\n",
              "      <td>2016-01-01 03:30:17</td>\n",
              "      <td>HQ</td>\n",
              "      <td>The question is very simple, but I just could ...</td>\n",
              "    </tr>\n",
              "    <tr>\n",
              "      <th>4</th>\n",
              "      <td>34553755</td>\n",
              "      <td>hide/show fab with scale animation</td>\n",
              "      <td>&lt;p&gt;I'm using custom floatingactionmenu. I need...</td>\n",
              "      <td>&lt;android&gt;&lt;material-design&gt;&lt;floating-action-but...</td>\n",
              "      <td>2016-01-01 05:21:48</td>\n",
              "      <td>HQ</td>\n",
              "      <td>I'm using custom floatingactionmenu. I need to...</td>\n",
              "    </tr>\n",
              "    <tr>\n",
              "      <th>...</th>\n",
              "      <td>...</td>\n",
              "      <td>...</td>\n",
              "      <td>...</td>\n",
              "      <td>...</td>\n",
              "      <td>...</td>\n",
              "      <td>...</td>\n",
              "      <td>...</td>\n",
              "    </tr>\n",
              "    <tr>\n",
              "      <th>44995</th>\n",
              "      <td>60461435</td>\n",
              "      <td>Convert List&lt;String&gt; to string C# - asp.net - ...</td>\n",
              "      <td>&lt;p&gt;I am new to this and I am asking for help t...</td>\n",
              "      <td>&lt;c#&gt;&lt;asp.net&gt;&lt;sql-server&gt;</td>\n",
              "      <td>2020-02-29 02:22:18</td>\n",
              "      <td>LQ_CLOSE</td>\n",
              "      <td>I am new to this and I am asking for help to c...</td>\n",
              "    </tr>\n",
              "    <tr>\n",
              "      <th>44996</th>\n",
              "      <td>60461754</td>\n",
              "      <td>Does Python execute code from the top or botto...</td>\n",
              "      <td>&lt;p&gt;I am working on learning Python and was won...</td>\n",
              "      <td>&lt;python&gt;</td>\n",
              "      <td>2020-02-29 03:33:59</td>\n",
              "      <td>LQ_CLOSE</td>\n",
              "      <td>I am working on learning Python and was wonder...</td>\n",
              "    </tr>\n",
              "    <tr>\n",
              "      <th>44997</th>\n",
              "      <td>60462001</td>\n",
              "      <td>how to change payment date in Azure?</td>\n",
              "      <td>&lt;p&gt;It looks like it costs 8 days per month in ...</td>\n",
              "      <td>&lt;azure&gt;&lt;billing&gt;</td>\n",
              "      <td>2020-02-29 04:34:16</td>\n",
              "      <td>LQ_CLOSE</td>\n",
              "      <td>It looks like it costs 8 days per month in Azu...</td>\n",
              "    </tr>\n",
              "    <tr>\n",
              "      <th>44998</th>\n",
              "      <td>60465318</td>\n",
              "      <td>how to implement fill in the blank in Swift</td>\n",
              "      <td>&lt;p&gt;\"I _____ any questions.\"&lt;/p&gt;\\n\\n&lt;p&gt;I want t...</td>\n",
              "      <td>&lt;ios&gt;&lt;swift&gt;</td>\n",
              "      <td>2020-02-29 12:50:43</td>\n",
              "      <td>LQ_CLOSE</td>\n",
              "      <td>\"I _____ any questions.\"  I want to implement ...</td>\n",
              "    </tr>\n",
              "    <tr>\n",
              "      <th>44999</th>\n",
              "      <td>60468018</td>\n",
              "      <td>How can I make a c# application outside of vis...</td>\n",
              "      <td>&lt;p&gt;I'm very new to programming and I'm teachin...</td>\n",
              "      <td>&lt;c#&gt;&lt;visual-studio&gt;</td>\n",
              "      <td>2020-02-29 17:55:56</td>\n",
              "      <td>LQ_CLOSE</td>\n",
              "      <td>I'm very new to programming and I'm teaching m...</td>\n",
              "    </tr>\n",
              "  </tbody>\n",
              "</table>\n",
              "<p>45000 rows × 7 columns</p>\n",
              "</div>"
            ],
            "text/plain": [
              "             Id                                              Title  \\\n",
              "0      34552656             Java: Repeat Task Every Random Seconds   \n",
              "1      34553034                  Why are Java Optionals immutable?   \n",
              "2      34553174  Text Overlay Image with Darkened Opacity React...   \n",
              "3      34553318         Why ternary operator in swift is so picky?   \n",
              "4      34553755                 hide/show fab with scale animation   \n",
              "...         ...                                                ...   \n",
              "44995  60461435  Convert List<String> to string C# - asp.net - ...   \n",
              "44996  60461754  Does Python execute code from the top or botto...   \n",
              "44997  60462001               how to change payment date in Azure?   \n",
              "44998  60465318        how to implement fill in the blank in Swift   \n",
              "44999  60468018  How can I make a c# application outside of vis...   \n",
              "\n",
              "                                                    Body  \\\n",
              "0      <p>I'm already familiar with repeating tasks e...   \n",
              "1      <p>I'd like to understand why Java 8 Optionals...   \n",
              "2      <p>I am attempting to overlay a title over an ...   \n",
              "3      <p>The question is very simple, but I just cou...   \n",
              "4      <p>I'm using custom floatingactionmenu. I need...   \n",
              "...                                                  ...   \n",
              "44995  <p>I am new to this and I am asking for help t...   \n",
              "44996  <p>I am working on learning Python and was won...   \n",
              "44997  <p>It looks like it costs 8 days per month in ...   \n",
              "44998  <p>\"I _____ any questions.\"</p>\\n\\n<p>I want t...   \n",
              "44999  <p>I'm very new to programming and I'm teachin...   \n",
              "\n",
              "                                                    Tags         CreationDate  \\\n",
              "0                                         <java><repeat>  2016-01-01 00:21:59   \n",
              "1                                       <java><optional>  2016-01-01 02:03:20   \n",
              "2      <javascript><image><overlay><react-native><opa...  2016-01-01 02:48:24   \n",
              "3      <swift><operators><whitespace><ternary-operato...  2016-01-01 03:30:17   \n",
              "4      <android><material-design><floating-action-but...  2016-01-01 05:21:48   \n",
              "...                                                  ...                  ...   \n",
              "44995                          <c#><asp.net><sql-server>  2020-02-29 02:22:18   \n",
              "44996                                           <python>  2020-02-29 03:33:59   \n",
              "44997                                   <azure><billing>  2020-02-29 04:34:16   \n",
              "44998                                       <ios><swift>  2020-02-29 12:50:43   \n",
              "44999                                <c#><visual-studio>  2020-02-29 17:55:56   \n",
              "\n",
              "              Y                                           BodyText  \n",
              "0      LQ_CLOSE  I'm already familiar with repeating tasks ever...  \n",
              "1            HQ  I'd like to understand why Java 8 Optionals we...  \n",
              "2            HQ  I am attempting to overlay a title over an ima...  \n",
              "3            HQ  The question is very simple, but I just could ...  \n",
              "4            HQ  I'm using custom floatingactionmenu. I need to...  \n",
              "...         ...                                                ...  \n",
              "44995  LQ_CLOSE  I am new to this and I am asking for help to c...  \n",
              "44996  LQ_CLOSE  I am working on learning Python and was wonder...  \n",
              "44997  LQ_CLOSE  It looks like it costs 8 days per month in Azu...  \n",
              "44998  LQ_CLOSE  \"I _____ any questions.\"  I want to implement ...  \n",
              "44999  LQ_CLOSE  I'm very new to programming and I'm teaching m...  \n",
              "\n",
              "[45000 rows x 7 columns]"
            ]
          },
          "execution_count": 12,
          "metadata": {},
          "output_type": "execute_result"
        }
      ],
      "source": [
        "inp_train_aug"
      ]
    },
    {
      "cell_type": "markdown",
      "id": "fdb288cf",
      "metadata": {
        "papermill": {
          "duration": 0.036226,
          "end_time": "2022-04-25T17:33:20.283871",
          "exception": false,
          "start_time": "2022-04-25T17:33:20.247645",
          "status": "completed"
        },
        "tags": [],
        "id": "fdb288cf"
      },
      "source": [
        "## Understanding the distribution of the length of the body text"
      ]
    },
    {
      "cell_type": "code",
      "execution_count": null,
      "id": "c9f8955b",
      "metadata": {
        "execution": {
          "iopub.execute_input": "2022-04-25T17:33:20.358297Z",
          "iopub.status.busy": "2022-04-25T17:33:20.357475Z",
          "iopub.status.idle": "2022-04-25T17:33:21.232752Z",
          "shell.execute_reply": "2022-04-25T17:33:21.232011Z"
        },
        "papermill": {
          "duration": 0.914528,
          "end_time": "2022-04-25T17:33:21.234653",
          "exception": false,
          "start_time": "2022-04-25T17:33:20.320125",
          "status": "completed"
        },
        "tags": [],
        "id": "c9f8955b",
        "outputId": "a6549ef0-7930-4fdf-f574-52a8f11f117b"
      },
      "outputs": [
        {
          "data": {
            "text/plain": [
              "count    45000.000000\n",
              "mean       107.376200\n",
              "std        120.708652\n",
              "min          0.000000\n",
              "25%         46.000000\n",
              "50%         76.000000\n",
              "75%        128.000000\n",
              "max       5412.000000\n",
              "Name: len_body, dtype: float64"
            ]
          },
          "execution_count": 13,
          "metadata": {},
          "output_type": "execute_result"
        }
      ],
      "source": [
        "inp_train_aug['len_body']=inp_train_aug.apply(lambda row: len(row.BodyText.split()), axis = 1)\n",
        "inp_train_aug['len_body'].describe()\n"
      ]
    },
    {
      "cell_type": "markdown",
      "id": "cbb04d84",
      "metadata": {
        "papermill": {
          "duration": 0.035833,
          "end_time": "2022-04-25T17:33:21.306618",
          "exception": false,
          "start_time": "2022-04-25T17:33:21.270785",
          "status": "completed"
        },
        "tags": [],
        "id": "cbb04d84"
      },
      "source": [
        ""
      ]
    },
    {
      "cell_type": "markdown",
      "id": "1d825777",
      "metadata": {
        "papermill": {
          "duration": 0.035715,
          "end_time": "2022-04-25T17:33:21.378283",
          "exception": false,
          "start_time": "2022-04-25T17:33:21.342568",
          "status": "completed"
        },
        "tags": [],
        "id": "1d825777"
      },
      "source": [
        "# Plotting all the length"
      ]
    },
    {
      "cell_type": "code",
      "execution_count": null,
      "id": "732be072",
      "metadata": {
        "execution": {
          "iopub.execute_input": "2022-04-25T17:33:21.452234Z",
          "iopub.status.busy": "2022-04-25T17:33:21.451497Z",
          "iopub.status.idle": "2022-04-25T17:33:21.640670Z",
          "shell.execute_reply": "2022-04-25T17:33:21.640083Z"
        },
        "papermill": {
          "duration": 0.228184,
          "end_time": "2022-04-25T17:33:21.642524",
          "exception": false,
          "start_time": "2022-04-25T17:33:21.414340",
          "status": "completed"
        },
        "tags": [],
        "id": "732be072",
        "outputId": "e8dad4d9-eb09-48b0-8f0d-8b9bf8aee585"
      },
      "outputs": [
        {
          "data": {
            "text/plain": [
              "<AxesSubplot:>"
            ]
          },
          "execution_count": 14,
          "metadata": {},
          "output_type": "execute_result"
        },
        {
          "data": {
            "image/png": "[encoded data removed]",
            "text/plain": [
              "<Figure size 432x288 with 1 Axes>"
            ]
          },
          "metadata": {
            "needs_background": "light"
          },
          "output_type": "display_data"
        }
      ],
      "source": [
        "inp_train_aug['len_body'].hist()"
      ]
    },
    {
      "cell_type": "markdown",
      "id": "5a5c8db8",
      "metadata": {
        "papermill": {
          "duration": 0.036717,
          "end_time": "2022-04-25T17:33:21.716021",
          "exception": false,
          "start_time": "2022-04-25T17:33:21.679304",
          "status": "completed"
        },
        "tags": [],
        "id": "5a5c8db8"
      },
      "source": [
        "# Plotting next 100 rows in the descending order"
      ]
    },
    {
      "cell_type": "code",
      "execution_count": null,
      "id": "ef6c419a",
      "metadata": {
        "execution": {
          "iopub.execute_input": "2022-04-25T17:33:21.792125Z",
          "iopub.status.busy": "2022-04-25T17:33:21.791699Z",
          "iopub.status.idle": "2022-04-25T17:33:22.010924Z",
          "shell.execute_reply": "2022-04-25T17:33:22.010083Z"
        },
        "papermill": {
          "duration": 0.259248,
          "end_time": "2022-04-25T17:33:22.012774",
          "exception": false,
          "start_time": "2022-04-25T17:33:21.753526",
          "status": "completed"
        },
        "tags": [],
        "id": "ef6c419a",
        "outputId": "17802bce-ab6e-4b2c-b40b-0cda00ceb7bb"
      },
      "outputs": [
        {
          "data": {
            "text/plain": [
              "<AxesSubplot:>"
            ]
          },
          "execution_count": 15,
          "metadata": {},
          "output_type": "execute_result"
        },
        {
          "data": {
            "image/png": "[encoded data removed]",
            "text/plain": [
              "<Figure size 432x288 with 1 Axes>"
            ]
          },
          "metadata": {
            "needs_background": "light"
          },
          "output_type": "display_data"
        }
      ],
      "source": [
        "inp_train_aug.sort_values(by = 'len_body', ascending = False)['len_body'][100:].hist()"
      ]
    },
    {
      "cell_type": "code",
      "execution_count": null,
      "id": "bdb3f978",
      "metadata": {
        "execution": {
          "iopub.execute_input": "2022-04-25T17:33:22.092776Z",
          "iopub.status.busy": "2022-04-25T17:33:22.092455Z",
          "iopub.status.idle": "2022-04-25T17:33:22.127115Z",
          "shell.execute_reply": "2022-04-25T17:33:22.126297Z"
        },
        "papermill": {
          "duration": 0.077097,
          "end_time": "2022-04-25T17:33:22.128929",
          "exception": false,
          "start_time": "2022-04-25T17:33:22.051832",
          "status": "completed"
        },
        "tags": [],
        "id": "bdb3f978",
        "outputId": "ece19557-e153-44ee-9c32-a6c0b9898b56"
      },
      "outputs": [
        {
          "data": {
            "text/html": [
              "<div>\n",
              "<style scoped>\n",
              "    .dataframe tbody tr th:only-of-type {\n",
              "        vertical-align: middle;\n",
              "    }\n",
              "\n",
              "    .dataframe tbody tr th {\n",
              "        vertical-align: top;\n",
              "    }\n",
              "\n",
              "    .dataframe thead th {\n",
              "        text-align: right;\n",
              "    }\n",
              "</style>\n",
              "<table border=\"1\" class=\"dataframe\">\n",
              "  <thead>\n",
              "    <tr style=\"text-align: right;\">\n",
              "      <th></th>\n",
              "      <th>Id</th>\n",
              "      <th>Title</th>\n",
              "      <th>Body</th>\n",
              "      <th>Tags</th>\n",
              "      <th>CreationDate</th>\n",
              "      <th>Y</th>\n",
              "      <th>BodyText</th>\n",
              "      <th>len_body</th>\n",
              "    </tr>\n",
              "  </thead>\n",
              "  <tbody>\n",
              "    <tr>\n",
              "      <th>39738</th>\n",
              "      <td>55632261</td>\n",
              "      <td>How to pair sublists of (x,y) cell coordinates?</td>\n",
              "      <td>I have a list of 60 lists (representing 60 ima...</td>\n",
              "      <td>&lt;python&gt;&lt;list&gt;&lt;data-structures&gt;&lt;nested&gt;&lt;distance&gt;</td>\n",
              "      <td>2019-04-11 12:14:47</td>\n",
              "      <td>LQ_EDIT</td>\n",
              "      <td>I have a list of 60 lists (representing 60 ima...</td>\n",
              "      <td>5412</td>\n",
              "    </tr>\n",
              "    <tr>\n",
              "      <th>37575</th>\n",
              "      <td>53926858</td>\n",
              "      <td>i cant import a database from sql server to ph...</td>\n",
              "      <td>consulta SQL: Documentación\\r\\nUSE [master] GO...</td>\n",
              "      <td>&lt;mysql&gt;&lt;sql&gt;&lt;phpmyadmin&gt;&lt;xampp&gt;</td>\n",
              "      <td>2018-12-26 02:21:58</td>\n",
              "      <td>LQ_EDIT</td>\n",
              "      <td>consulta SQL: Documentación USE [master] GO CR...</td>\n",
              "      <td>3274</td>\n",
              "    </tr>\n",
              "    <tr>\n",
              "      <th>12345</th>\n",
              "      <td>40190847</td>\n",
              "      <td>How do i remove all numbers in python script *...</td>\n",
              "      <td># Help all numbers in this list need to be rem...</td>\n",
              "      <td>&lt;python&gt;</td>\n",
              "      <td>2016-10-22 10:07:35</td>\n",
              "      <td>LQ_EDIT</td>\n",
              "      <td># Help all numbers in this list need to be rem...</td>\n",
              "      <td>3076</td>\n",
              "    </tr>\n",
              "    <tr>\n",
              "      <th>40325</th>\n",
              "      <td>56102929</td>\n",
              "      <td>Need to expand an inventory journal (log) pand...</td>\n",
              "      <td>&lt;p&gt;I have an inventory journal that contains p...</td>\n",
              "      <td>&lt;python&gt;&lt;pandas&gt;&lt;performance&gt;&lt;inventory-manage...</td>\n",
              "      <td>2019-05-12 19:53:12</td>\n",
              "      <td>HQ</td>\n",
              "      <td>I have an inventory journal that contains prod...</td>\n",
              "      <td>3010</td>\n",
              "    </tr>\n",
              "    <tr>\n",
              "      <th>16794</th>\n",
              "      <td>42137223</td>\n",
              "      <td>Moving values in a column to a specific row.</td>\n",
              "      <td>I have datasett in my bachelor thesis.\\r\\nThis...</td>\n",
              "      <td>&lt;r&gt;&lt;rows&gt;</td>\n",
              "      <td>2017-02-09 12:50:51</td>\n",
              "      <td>LQ_EDIT</td>\n",
              "      <td>I have datasett in my bachelor thesis. This is...</td>\n",
              "      <td>2924</td>\n",
              "    </tr>\n",
              "    <tr>\n",
              "      <th>42245</th>\n",
              "      <td>57731810</td>\n",
              "      <td>Datasets not joining</td>\n",
              "      <td>&lt;p&gt;I'm having trouble joining FBI crime data w...</td>\n",
              "      <td>&lt;r&gt;&lt;join&gt;</td>\n",
              "      <td>2019-08-30 18:43:21</td>\n",
              "      <td>LQ_CLOSE</td>\n",
              "      <td>I'm having trouble joining FBI crime data with...</td>\n",
              "      <td>2789</td>\n",
              "    </tr>\n",
              "    <tr>\n",
              "      <th>20520</th>\n",
              "      <td>44003131</td>\n",
              "      <td>HTML To PDF conversion of invoice</td>\n",
              "      <td>&lt;p&gt;&lt;strong&gt;I want to convert this HTML invoice...</td>\n",
              "      <td>&lt;c#&gt;&lt;html&gt;&lt;asp.net&gt;&lt;.net&gt;&lt;asp.net-mvc&gt;</td>\n",
              "      <td>2017-05-16 13:38:49</td>\n",
              "      <td>LQ_CLOSE</td>\n",
              "      <td>**I want to convert this HTML invoice to PDF i...</td>\n",
              "      <td>2423</td>\n",
              "    </tr>\n",
              "    <tr>\n",
              "      <th>26707</th>\n",
              "      <td>47723882</td>\n",
              "      <td>Need help fixing my c++ fighting game with Run...</td>\n",
              "      <td>I have been receiving an issue that I do not u...</td>\n",
              "      <td>&lt;c++&gt;</td>\n",
              "      <td>2017-12-09 00:05:15</td>\n",
              "      <td>LQ_EDIT</td>\n",
              "      <td>I have been receiving an issue that I do not u...</td>\n",
              "      <td>2209</td>\n",
              "    </tr>\n",
              "    <tr>\n",
              "      <th>22204</th>\n",
              "      <td>44849586</td>\n",
              "      <td>How to color active, wrong and correct words i...</td>\n",
              "      <td>\\r\\n\\r\\n&lt;!-- begin snippet: js hide: false con...</td>\n",
              "      <td>&lt;javascript&gt;</td>\n",
              "      <td>2017-06-30 15:07:12</td>\n",
              "      <td>LQ_EDIT</td>\n",
              "      <td>var hasStarted = false; //strToTest is an arra...</td>\n",
              "      <td>2204</td>\n",
              "    </tr>\n",
              "    <tr>\n",
              "      <th>15251</th>\n",
              "      <td>41416896</td>\n",
              "      <td>Need Help ! How to add a custom font this acti...</td>\n",
              "      <td>\\r\\n\\r\\n&gt; Hello Evrybody\\r\\ni hope u are f...</td>\n",
              "      <td>&lt;android&gt;&lt;fonts&gt;</td>\n",
              "      <td>2017-01-01 16:15:55</td>\n",
              "      <td>LQ_EDIT</td>\n",
              "      <td>&gt; Hello Evrybody i hope u are fine:) first wor...</td>\n",
              "      <td>2133</td>\n",
              "    </tr>\n",
              "    <tr>\n",
              "      <th>34452</th>\n",
              "      <td>51654074</td>\n",
              "      <td>`tiny_malloc_from_free_list` made my pointer `...</td>\n",
              "      <td>&lt;p&gt;I am working on code that includes &lt;code&gt;bl...</td>\n",
              "      <td>&lt;python&gt;&lt;macos&gt;&lt;memory-management&gt;&lt;lldb&gt;&lt;bllip...</td>\n",
              "      <td>2018-08-02 12:47:22</td>\n",
              "      <td>HQ</td>\n",
              "      <td>I am working on code that includes `bllipparse...</td>\n",
              "      <td>2050</td>\n",
              "    </tr>\n",
              "    <tr>\n",
              "      <th>2883</th>\n",
              "      <td>35695839</td>\n",
              "      <td>Android ExoPlayer not resuming after network i...</td>\n",
              "      <td>&lt;p&gt;Im using &lt;a href=\"https://github.com/google...</td>\n",
              "      <td>&lt;android&gt;&lt;exoplayer&gt;</td>\n",
              "      <td>2016-02-29 09:24:45</td>\n",
              "      <td>HQ</td>\n",
              "      <td>Im using [Exoplayer](https://github.com/google...</td>\n",
              "      <td>2030</td>\n",
              "    </tr>\n",
              "    <tr>\n",
              "      <th>5249</th>\n",
              "      <td>36935116</td>\n",
              "      <td>infoWindow in google maps on multiple markers</td>\n",
              "      <td>&lt;p&gt;i've created a google maps, which retrieve ...</td>\n",
              "      <td>&lt;javascript&gt;&lt;html&gt;&lt;google-maps&gt;&lt;csv&gt;</td>\n",
              "      <td>2016-04-29 09:51:48</td>\n",
              "      <td>LQ_CLOSE</td>\n",
              "      <td>i've created a google maps, which retrieve dat...</td>\n",
              "      <td>1961</td>\n",
              "    </tr>\n",
              "    <tr>\n",
              "      <th>15534</th>\n",
              "      <td>41581769</td>\n",
              "      <td>Getting error variable is inaccessible</td>\n",
              "      <td>&lt;p&gt;I've been writing some code for a small con...</td>\n",
              "      <td>&lt;c++&gt;&lt;class&gt;&lt;inheritance&gt;</td>\n",
              "      <td>2017-01-11 02:29:55</td>\n",
              "      <td>LQ_CLOSE</td>\n",
              "      <td>I've been writing some code for a small consol...</td>\n",
              "      <td>1933</td>\n",
              "    </tr>\n",
              "    <tr>\n",
              "      <th>24788</th>\n",
              "      <td>46203982</td>\n",
              "      <td>Adding item in RecyclerView Fragment</td>\n",
              "      <td>&lt;p&gt;Apologies first of all because it is going ...</td>\n",
              "      <td>&lt;java&gt;&lt;android&gt;&lt;android-fragments&gt;&lt;android-rec...</td>\n",
              "      <td>2017-09-13 17:54:39</td>\n",
              "      <td>LQ_CLOSE</td>\n",
              "      <td>Apologies first of all because it is going to ...</td>\n",
              "      <td>1931</td>\n",
              "    </tr>\n",
              "  </tbody>\n",
              "</table>\n",
              "</div>"
            ],
            "text/plain": [
              "             Id                                              Title  \\\n",
              "39738  55632261    How to pair sublists of (x,y) cell coordinates?   \n",
              "37575  53926858  i cant import a database from sql server to ph...   \n",
              "12345  40190847  How do i remove all numbers in python script *...   \n",
              "40325  56102929  Need to expand an inventory journal (log) pand...   \n",
              "16794  42137223       Moving values in a column to a specific row.   \n",
              "42245  57731810                               Datasets not joining   \n",
              "20520  44003131                  HTML To PDF conversion of invoice   \n",
              "26707  47723882  Need help fixing my c++ fighting game with Run...   \n",
              "22204  44849586  How to color active, wrong and correct words i...   \n",
              "15251  41416896  Need Help ! How to add a custom font this acti...   \n",
              "34452  51654074  `tiny_malloc_from_free_list` made my pointer `...   \n",
              "2883   35695839  Android ExoPlayer not resuming after network i...   \n",
              "5249   36935116      infoWindow in google maps on multiple markers   \n",
              "15534  41581769             Getting error variable is inaccessible   \n",
              "24788  46203982               Adding item in RecyclerView Fragment   \n",
              "\n",
              "                                                    Body  \\\n",
              "39738  I have a list of 60 lists (representing 60 ima...   \n",
              "37575  consulta SQL: Documentación\\r\\nUSE [master] GO...   \n",
              "12345  # Help all numbers in this list need to be rem...   \n",
              "40325  <p>I have an inventory journal that contains p...   \n",
              "16794  I have datasett in my bachelor thesis.\\r\\nThis...   \n",
              "42245  <p>I'm having trouble joining FBI crime data w...   \n",
              "20520  <p><strong>I want to convert this HTML invoice...   \n",
              "26707  I have been receiving an issue that I do not u...   \n",
              "22204  \\r\\n\\r\\n<!-- begin snippet: js hide: false con...   \n",
              "15251      \\r\\n\\r\\n> Hello Evrybody\\r\\ni hope u are f...   \n",
              "34452  <p>I am working on code that includes <code>bl...   \n",
              "2883   <p>Im using <a href=\"https://github.com/google...   \n",
              "5249   <p>i've created a google maps, which retrieve ...   \n",
              "15534  <p>I've been writing some code for a small con...   \n",
              "24788  <p>Apologies first of all because it is going ...   \n",
              "\n",
              "                                                    Tags         CreationDate  \\\n",
              "39738  <python><list><data-structures><nested><distance>  2019-04-11 12:14:47   \n",
              "37575                    <mysql><sql><phpmyadmin><xampp>  2018-12-26 02:21:58   \n",
              "12345                                           <python>  2016-10-22 10:07:35   \n",
              "40325  <python><pandas><performance><inventory-manage...  2019-05-12 19:53:12   \n",
              "16794                                          <r><rows>  2017-02-09 12:50:51   \n",
              "42245                                          <r><join>  2019-08-30 18:43:21   \n",
              "20520             <c#><html><asp.net><.net><asp.net-mvc>  2017-05-16 13:38:49   \n",
              "26707                                              <c++>  2017-12-09 00:05:15   \n",
              "22204                                       <javascript>  2017-06-30 15:07:12   \n",
              "15251                                   <android><fonts>  2017-01-01 16:15:55   \n",
              "34452  <python><macos><memory-management><lldb><bllip...  2018-08-02 12:47:22   \n",
              "2883                                <android><exoplayer>  2016-02-29 09:24:45   \n",
              "5249                <javascript><html><google-maps><csv>  2016-04-29 09:51:48   \n",
              "15534                          <c++><class><inheritance>  2017-01-11 02:29:55   \n",
              "24788  <java><android><android-fragments><android-rec...  2017-09-13 17:54:39   \n",
              "\n",
              "              Y                                           BodyText  len_body  \n",
              "39738   LQ_EDIT  I have a list of 60 lists (representing 60 ima...      5412  \n",
              "37575   LQ_EDIT  consulta SQL: Documentación USE [master] GO CR...      3274  \n",
              "12345   LQ_EDIT  # Help all numbers in this list need to be rem...      3076  \n",
              "40325        HQ  I have an inventory journal that contains prod...      3010  \n",
              "16794   LQ_EDIT  I have datasett in my bachelor thesis. This is...      2924  \n",
              "42245  LQ_CLOSE  I'm having trouble joining FBI crime data with...      2789  \n",
              "20520  LQ_CLOSE  **I want to convert this HTML invoice to PDF i...      2423  \n",
              "26707   LQ_EDIT  I have been receiving an issue that I do not u...      2209  \n",
              "22204   LQ_EDIT  var hasStarted = false; //strToTest is an arra...      2204  \n",
              "15251   LQ_EDIT  > Hello Evrybody i hope u are fine:) first wor...      2133  \n",
              "34452        HQ  I am working on code that includes `bllipparse...      2050  \n",
              "2883         HQ  Im using [Exoplayer](https://github.com/google...      2030  \n",
              "5249   LQ_CLOSE  i've created a google maps, which retrieve dat...      1961  \n",
              "15534  LQ_CLOSE  I've been writing some code for a small consol...      1933  \n",
              "24788  LQ_CLOSE  Apologies first of all because it is going to ...      1931  "
            ]
          },
          "execution_count": 16,
          "metadata": {},
          "output_type": "execute_result"
        }
      ],
      "source": [
        "inp_train_aug.sort_values(by = 'len_body', ascending = False)[0:15]"
      ]
    },
    {
      "cell_type": "code",
      "execution_count": null,
      "id": "1c0e2443",
      "metadata": {
        "execution": {
          "iopub.execute_input": "2022-04-25T17:33:22.208885Z",
          "iopub.status.busy": "2022-04-25T17:33:22.208250Z",
          "iopub.status.idle": "2022-04-25T17:33:24.038485Z",
          "shell.execute_reply": "2022-04-25T17:33:24.037846Z"
        },
        "papermill": {
          "duration": 1.872134,
          "end_time": "2022-04-25T17:33:24.040633",
          "exception": false,
          "start_time": "2022-04-25T17:33:22.168499",
          "status": "completed"
        },
        "tags": [],
        "id": "1c0e2443"
      },
      "outputs": [],
      "source": [
        "inp_train_aug.to_csv('old_selected_train.csv',columns=['Title','Body','BodyText','Y'],index=False)"
      ]
    },
    {
      "cell_type": "code",
      "execution_count": null,
      "id": "43795eb9",
      "metadata": {
        "execution": {
          "iopub.execute_input": "2022-04-25T17:33:24.121546Z",
          "iopub.status.busy": "2022-04-25T17:33:24.121158Z",
          "iopub.status.idle": "2022-04-25T17:33:33.552426Z",
          "shell.execute_reply": "2022-04-25T17:33:33.551742Z"
        },
        "papermill": {
          "duration": 9.475331,
          "end_time": "2022-04-25T17:33:33.554984",
          "exception": false,
          "start_time": "2022-04-25T17:33:24.079653",
          "status": "completed"
        },
        "tags": [],
        "id": "43795eb9"
      },
      "outputs": [],
      "source": [
        "inp_validation_aug=inp_validation\n",
        "inp_validation_aug['BodyText']=inp_validation_aug.apply(lambda row: html2text.html2text(row.Body), axis = 1)\n",
        "inp_validation_aug['BodyText']=inp_validation_aug.apply(lambda row: row.BodyText.replace(\"\\n\", \" \"), axis = 1)\n",
        "inp_validation_aug.to_csv('old_selected_validation.csv',columns=['BodyText','Y'],index=False)"
      ]
    },
    {
      "cell_type": "markdown",
      "id": "7948c476",
      "metadata": {
        "papermill": {
          "duration": 0.038525,
          "end_time": "2022-04-25T17:33:33.632954",
          "exception": false,
          "start_time": "2022-04-25T17:33:33.594429",
          "status": "completed"
        },
        "tags": [],
        "id": "7948c476"
      },
      "source": [
        "# Creating alternate replacement strategy"
      ]
    },
    {
      "cell_type": "markdown",
      "id": "41c1ab4f",
      "metadata": {
        "papermill": {
          "duration": 0.038478,
          "end_time": "2022-04-25T17:33:33.710103",
          "exception": false,
          "start_time": "2022-04-25T17:33:33.671625",
          "status": "completed"
        },
        "tags": [],
        "id": "41c1ab4f"
      },
      "source": [
        "Creating new train dataset"
      ]
    },
    {
      "cell_type": "code",
      "execution_count": null,
      "id": "196e83b8",
      "metadata": {
        "execution": {
          "iopub.execute_input": "2022-04-25T17:33:33.789047Z",
          "iopub.status.busy": "2022-04-25T17:33:33.788738Z",
          "iopub.status.idle": "2022-04-25T17:33:33.792078Z",
          "shell.execute_reply": "2022-04-25T17:33:33.791542Z"
        },
        "papermill": {
          "duration": 0.04461,
          "end_time": "2022-04-25T17:33:33.793636",
          "exception": false,
          "start_time": "2022-04-25T17:33:33.749026",
          "status": "completed"
        },
        "tags": [],
        "id": "196e83b8"
      },
      "outputs": [],
      "source": [
        "inp_train_aug2=inp_train"
      ]
    },
    {
      "cell_type": "code",
      "execution_count": null,
      "id": "68ff6f1d",
      "metadata": {
        "execution": {
          "iopub.execute_input": "2022-04-25T17:33:33.872705Z",
          "iopub.status.busy": "2022-04-25T17:33:33.872184Z",
          "iopub.status.idle": "2022-04-25T17:33:33.877282Z",
          "shell.execute_reply": "2022-04-25T17:33:33.876724Z"
        },
        "papermill": {
          "duration": 0.0467,
          "end_time": "2022-04-25T17:33:33.878952",
          "exception": false,
          "start_time": "2022-04-25T17:33:33.832252",
          "status": "completed"
        },
        "tags": [],
        "id": "68ff6f1d"
      },
      "outputs": [],
      "source": [
        "def repls(row):\n",
        "    cont_replace = [] \n",
        "    for word in row.strip().split():\n",
        "#         print(word)\n",
        "        cont_replace.append(contractions.fix(word))\n",
        "#     print(cont_replace)\n",
        "    cont_replace=\" \".join(cont_replace)\n",
        "    stopword = set(stopwords.words('english'))\n",
        "    tokenword = word_tokenize(cont_replace)\n",
        "    cont_replace=[word_test for word_test in tokenword if not word_test.lower() in stopword]\n",
        "    cont_replace=\" \".join(cont_replace)\n",
        "    return cont_replace"
      ]
    },
    {
      "cell_type": "code",
      "execution_count": null,
      "id": "4bdc1708",
      "metadata": {
        "execution": {
          "iopub.execute_input": "2022-04-25T17:33:33.958110Z",
          "iopub.status.busy": "2022-04-25T17:33:33.957793Z",
          "iopub.status.idle": "2022-04-25T17:33:44.912816Z",
          "shell.execute_reply": "2022-04-25T17:33:44.911868Z"
        },
        "papermill": {
          "duration": 10.997927,
          "end_time": "2022-04-25T17:33:44.915463",
          "exception": false,
          "start_time": "2022-04-25T17:33:33.917536",
          "status": "completed"
        },
        "tags": [],
        "id": "4bdc1708",
        "outputId": "e58cbbc9-3760-49ce-e471-809286d66b9c"
      },
      "outputs": [
        {
          "name": "stdout",
          "output_type": "stream",
          "text": [
            "\\n on row: java: repeat task every random seconds <p>i'm already familiar with repeating tasks every n seconds by using java.util.timer and java.util.timertask. but lets say i want to print \"hello world\" to the console every random seconds from 1-5. unfortunately i'm in a bit of a rush and don't have any code to show so far. any help would be apriciated.  </p>\n",
            "\\W on row: java  repeat task every random seconds  p i m already familiar with repeating tasks every n seconds by using java util timer and java util timertask  but lets say i want to print  hello world  to the console every random seconds from 1 5  unfortunately i m in a bit of a rush and don t have any code to show so far  any help would be apriciated     p \n",
            "http\\s+|www.\\s+ on row: java  repeat task every random seconds  p i m already familiar with repeating tasks every n seconds by using java util timer and java util timertask  but lets say i want to print  hello world  to the console every random seconds from 1 5  unfortunately i m in a bit of a rush and don t have any code to show so far  any help would be apriciated     p \n",
            "https\\s+|www.\\s+ on row: java  repeat task every random seconds  p i m already familiar with repeating tasks every n seconds by using java util timer and java util timertask  but lets say i want to print  hello world  to the console every random seconds from 1 5  unfortunately i m in a bit of a rush and don t have any code to show so far  any help would be apriciated     p \n",
            "\\s+[a-zA-Z]\\s+ on row: java  repeat task every random seconds i already familiar with repeating tasks every seconds by using java util timer and java util timertask  but lets say want to print  hello world  to the console every random seconds from 1 5  unfortunately m in bit of rush and don have any code to show so far  any help would be apriciated \n",
            "\\^[a-zA-Z]\\s+ on row: java  repeat task every random seconds i already familiar with repeating tasks every seconds by using java util timer and java util timertask  but lets say want to print  hello world  to the console every random seconds from 1 5  unfortunately m in bit of rush and don have any code to show so far  any help would be apriciated \n",
            "\\s+ on row: java repeat task every random seconds i already familiar with repeating tasks every seconds by using java util timer and java util timertask but lets say want to print hello world to the console every random seconds from 1 5 unfortunately m in bit of rush and don have any code to show so far any help would be apriciated \n",
            "\\’ on row: java repeat task every random seconds i already familiar with repeating tasks every seconds by using java util timer and java util timertask but lets say want to print hello world to the console every random seconds from 1 5 unfortunately m in bit of rush and don have any code to show so far any help would be apriciated \n",
            "\\r on row: java repeat task every random seconds i already familiar with repeating tasks every seconds by using java util timer and java util timertask but lets say want to print hello world to the console every random seconds from 1 5 unfortunately m in bit of rush and don have any code to show so far any help would be apriciated \n",
            "[0-9] on row: java repeat task every random seconds i already familiar with repeating tasks every seconds by using java util timer and java util timertask but lets say want to print hello world to the console every random seconds from num num unfortunately m in bit of rush and don have any code to show so far any help would be apriciated \n",
            "[.|,|)|(|\\|/] on row: java repeat task every random seconds i already familiar with repeating tasks every seconds by using java util timer and java util timertask but lets say want to print hello world to the console every random seconds from num num unfortunately m in bit of rush and don have any code to show so far any help would be apriciated \n"
          ]
        }
      ],
      "source": [
        "reg_replace={'\\\\n':' ',r'\\W':' ',r'http\\s+|www.\\s+':r'',r'https\\s+|www.\\s+':r'',\n",
        "             r'\\s+[a-zA-Z]\\s+':' ',r'\\^[a-zA-Z]\\s+':' ',r'\\s+':' ',r\"\\’\":\"\\'\",r\"\\r\":\"\",r\"\\n\":\"\",r\"[0-9]\":\"num\",\n",
        "            r'[.|,|)|(|\\|/]':r' '}\n",
        "inp_train_aug2['Merged']=inp_train['Title']+\" \"+inp_train['Body']\n",
        "inp_train_aug2['Merged']=inp_train_aug2['Merged'].str.lower()\n",
        "for k,v in reg_replace.items():\n",
        "    inp_train_aug2['Merged']=inp_train_aug2['Merged'].map(lambda row: re.sub(k,v,str(row)))\n",
        "    print(k,\"on row:\",inp_train_aug2['Merged'][0])"
      ]
    },
    {
      "cell_type": "code",
      "execution_count": null,
      "id": "acf755ce",
      "metadata": {
        "execution": {
          "iopub.execute_input": "2022-04-25T17:33:45.001036Z",
          "iopub.status.busy": "2022-04-25T17:33:45.000735Z",
          "iopub.status.idle": "2022-04-25T17:33:45.024752Z",
          "shell.execute_reply": "2022-04-25T17:33:45.023769Z"
        },
        "papermill": {
          "duration": 0.068576,
          "end_time": "2022-04-25T17:33:45.026726",
          "exception": false,
          "start_time": "2022-04-25T17:33:44.958150",
          "status": "completed"
        },
        "tags": [],
        "id": "acf755ce",
        "outputId": "b1ec53b0-c1ab-468e-9afe-5b00a83f0746"
      },
      "outputs": [
        {
          "data": {
            "text/plain": [
              "'java repeat task every random seconds already familiar repeating tasks every seconds using java util timer java util timertask let us say want print hello world console every random seconds num num unfortunately bit rush code show far help would apriciated'"
            ]
          },
          "execution_count": 22,
          "metadata": {},
          "output_type": "execute_result"
        }
      ],
      "source": [
        "rw=inp_train_aug2['Merged'][0]\n",
        "rw\n",
        "repls(rw)"
      ]
    },
    {
      "cell_type": "code",
      "execution_count": null,
      "id": "cbbd13a3",
      "metadata": {
        "execution": {
          "iopub.execute_input": "2022-04-25T17:33:45.133522Z",
          "iopub.status.busy": "2022-04-25T17:33:45.132977Z",
          "iopub.status.idle": "2022-04-25T17:33:45.145003Z",
          "shell.execute_reply": "2022-04-25T17:33:45.144200Z"
        },
        "papermill": {
          "duration": 0.066751,
          "end_time": "2022-04-25T17:33:45.146954",
          "exception": false,
          "start_time": "2022-04-25T17:33:45.080203",
          "status": "completed"
        },
        "tags": [],
        "id": "cbbd13a3",
        "outputId": "86e7a846-f433-4381-eb27-fa816ca84093"
      },
      "outputs": [
        {
          "data": {
            "text/plain": [
              "'java repeat task every random seconds i already familiar with repeating tasks every seconds by using java util timer and java util timertask but lets say want to print hello world to the console every random seconds from num num unfortunately m in bit of rush and don have any code to show so far any help would be apriciated '"
            ]
          },
          "execution_count": 23,
          "metadata": {},
          "output_type": "execute_result"
        }
      ],
      "source": [
        "inp_train_aug2['Merged'][0]"
      ]
    },
    {
      "cell_type": "code",
      "execution_count": null,
      "id": "868f41ec",
      "metadata": {
        "execution": {
          "iopub.execute_input": "2022-04-25T17:33:45.235210Z",
          "iopub.status.busy": "2022-04-25T17:33:45.234972Z",
          "iopub.status.idle": "2022-04-25T17:34:42.472498Z",
          "shell.execute_reply": "2022-04-25T17:34:42.471874Z"
        },
        "papermill": {
          "duration": 57.283567,
          "end_time": "2022-04-25T17:34:42.474783",
          "exception": false,
          "start_time": "2022-04-25T17:33:45.191216",
          "status": "completed"
        },
        "tags": [],
        "id": "868f41ec"
      },
      "outputs": [],
      "source": [
        "\n",
        "reg_repl2= {\"\\'\":\"\",r\"\\\"\":\"\",r'[?|!|\\'|\"|#]':r''}\n",
        "inp_train_aug2['Merged']=inp_train_aug2.apply(lambda row: repls(row.Merged), axis = 1)\n",
        "for k,v in reg_repl2.items():\n",
        "    inp_train_aug2['Merged']=inp_train_aug2['Merged'].map(lambda row: re.sub(k,v,str(row)))"
      ]
    },
    {
      "cell_type": "code",
      "execution_count": null,
      "id": "72733075",
      "metadata": {
        "execution": {
          "iopub.execute_input": "2022-04-25T17:34:42.562486Z",
          "iopub.status.busy": "2022-04-25T17:34:42.561995Z",
          "iopub.status.idle": "2022-04-25T17:34:42.566933Z",
          "shell.execute_reply": "2022-04-25T17:34:42.566131Z"
        },
        "papermill": {
          "duration": 0.050092,
          "end_time": "2022-04-25T17:34:42.568609",
          "exception": false,
          "start_time": "2022-04-25T17:34:42.518517",
          "status": "completed"
        },
        "tags": [],
        "id": "72733075",
        "outputId": "61b630e4-c7c5-4085-b2a5-fedb7a6161a4"
      },
      "outputs": [
        {
          "data": {
            "text/plain": [
              "'java repeat task every random seconds already familiar repeating tasks every seconds using java util timer java util timertask let us say want print hello world console every random seconds num num unfortunately bit rush code show far help would apriciated'"
            ]
          },
          "execution_count": 25,
          "metadata": {},
          "output_type": "execute_result"
        }
      ],
      "source": [
        "inp_train_aug2['Merged'][0]"
      ]
    },
    {
      "cell_type": "code",
      "execution_count": null,
      "id": "36f78d86",
      "metadata": {
        "execution": {
          "iopub.execute_input": "2022-04-25T17:34:42.654721Z",
          "iopub.status.busy": "2022-04-25T17:34:42.654258Z",
          "iopub.status.idle": "2022-04-25T17:34:43.351045Z",
          "shell.execute_reply": "2022-04-25T17:34:43.350272Z"
        },
        "papermill": {
          "duration": 0.742718,
          "end_time": "2022-04-25T17:34:43.353372",
          "exception": false,
          "start_time": "2022-04-25T17:34:42.610654",
          "status": "completed"
        },
        "tags": [],
        "id": "36f78d86"
      },
      "outputs": [],
      "source": [
        "inp_train_aug2.to_csv('allop_train.csv',columns=['Merged','Y'],index=False)"
      ]
    },
    {
      "cell_type": "markdown",
      "id": "0f06ce3c",
      "metadata": {
        "papermill": {
          "duration": 0.042108,
          "end_time": "2022-04-25T17:34:43.438890",
          "exception": false,
          "start_time": "2022-04-25T17:34:43.396782",
          "status": "completed"
        },
        "tags": [],
        "id": "0f06ce3c"
      },
      "source": [
        "Creating new test Dataset"
      ]
    },
    {
      "cell_type": "code",
      "execution_count": null,
      "id": "e9d644c4",
      "metadata": {
        "execution": {
          "iopub.execute_input": "2022-04-25T17:34:43.525094Z",
          "iopub.status.busy": "2022-04-25T17:34:43.524790Z",
          "iopub.status.idle": "2022-04-25T17:34:43.528242Z",
          "shell.execute_reply": "2022-04-25T17:34:43.527481Z"
        },
        "papermill": {
          "duration": 0.048849,
          "end_time": "2022-04-25T17:34:43.529878",
          "exception": false,
          "start_time": "2022-04-25T17:34:43.481029",
          "status": "completed"
        },
        "tags": [],
        "id": "e9d644c4"
      },
      "outputs": [],
      "source": [
        "inp_val_2=inp_validation"
      ]
    },
    {
      "cell_type": "code",
      "execution_count": null,
      "id": "c40da609",
      "metadata": {
        "execution": {
          "iopub.execute_input": "2022-04-25T17:34:43.616153Z",
          "iopub.status.busy": "2022-04-25T17:34:43.615860Z",
          "iopub.status.idle": "2022-04-25T17:35:09.306171Z",
          "shell.execute_reply": "2022-04-25T17:35:09.305059Z"
        },
        "papermill": {
          "duration": 25.736216,
          "end_time": "2022-04-25T17:35:09.308559",
          "exception": false,
          "start_time": "2022-04-25T17:34:43.572343",
          "status": "completed"
        },
        "tags": [],
        "id": "c40da609"
      },
      "outputs": [],
      "source": [
        "inp_val_2=inp_validation\n",
        "reg_replace={'\\\\n':' ',r'\\W':' ',r'http\\s+|www.\\s+':r'',r'https\\s+|www.\\s+':r'',\n",
        "             r'\\s+[a-zA-Z]\\s+':' ',r'\\^[a-zA-Z]\\s+':' ',r'\\s+':' ',r\"\\’\":\"\\'\",r\"\\r\":\"\",r\"\\n\":\"\",r\"[0-9]\":\"num\",\n",
        "            r'[.|,|)|(|\\|/]':r' '}\n",
        "inp_val_2['Merged']=inp_val_2['Title']+\" \"+inp_val_2['Body']\n",
        "inp_val_2['Merged']=inp_val_2['Merged'].str.lower()\n",
        "for k,v in reg_replace.items():\n",
        "    inp_val_2['Merged']=inp_val_2['Merged'].map(lambda row: re.sub(k,v,str(row)))\n",
        "reg_repl2= {\"\\'\":\"\",r\"\\\"\":\"\",r'[?|!|\\'|\"|#]':r''}\n",
        "inp_val_2['Merged']=inp_val_2.apply(lambda row: repls(row.Merged), axis = 1)\n",
        "for k,v in reg_repl2.items():\n",
        "    inp_val_2['Merged']=inp_val_2['Merged'].map(lambda row: re.sub(k,v,str(row)))\n"
      ]
    },
    {
      "cell_type": "code",
      "execution_count": null,
      "id": "e4cf0404",
      "metadata": {
        "execution": {
          "iopub.execute_input": "2022-04-25T17:35:09.406730Z",
          "iopub.status.busy": "2022-04-25T17:35:09.405991Z",
          "iopub.status.idle": "2022-04-25T17:35:09.653595Z",
          "shell.execute_reply": "2022-04-25T17:35:09.652612Z"
        },
        "papermill": {
          "duration": 0.298039,
          "end_time": "2022-04-25T17:35:09.655904",
          "exception": false,
          "start_time": "2022-04-25T17:35:09.357865",
          "status": "completed"
        },
        "tags": [],
        "id": "e4cf0404"
      },
      "outputs": [],
      "source": [
        "inp_val_2.to_csv('allop_val.csv',columns=['Merged','Y'],index=False)"
      ]
    }
  ],
  "metadata": {
    "kernelspec": {
      "display_name": "Python 3 (ipykernel)",
      "language": "python",
      "name": "python3"
    },
    "language_info": {
      "codemirror_mode": {
        "name": "ipython",
        "version": 3
      },
      "file_extension": ".py",
      "mimetype": "text/x-python",
      "name": "python",
      "nbconvert_exporter": "python",
      "pygments_lexer": "ipython3",
      "version": "3.9.7"
    },
    "papermill": {
      "default_parameters": {},
      "duration": 172.588113,
      "end_time": "2022-04-25T17:35:10.622515",
      "environment_variables": {},
      "exception": null,
      "input_path": "__notebook__.ipynb",
      "output_path": "__notebook__.ipynb",
      "parameters": {},
      "start_time": "2022-04-25T17:32:18.034402",
      "version": "2.3.4"
    },
    "colab": {
      "name": "1_Preproceesing_withEDA.ipynb",
      "provenance": [],
      "collapsed_sections": []
    }
  },
  "nbformat": 4,
  "nbformat_minor": 5
}